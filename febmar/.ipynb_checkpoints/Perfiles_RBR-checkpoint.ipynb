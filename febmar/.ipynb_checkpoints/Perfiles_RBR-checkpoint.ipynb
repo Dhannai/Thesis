{
 "cells": [
  {
   "cell_type": "markdown",
   "id": "09879194-9767-41c7-ac2a-1dfbb7fa786a",
   "metadata": {},
   "source": [
    "## packages"
   ]
  },
  {
   "cell_type": "code",
   "execution_count": 2,
   "id": "65dba19c-2110-4dd8-94ab-5b211d6e1184",
   "metadata": {},
   "outputs": [],
   "source": [
    "import numpy as np\n",
    "import pandas as pd\n",
    "import xarray as xr\n",
    "import matplotlib.pyplot as plt\n",
    "import scipy.io as sio\n",
    "import datetime\n",
    "import gsw\n",
    "import matplotlib.dates as mdates\n",
    "import matplotlib.ticker as tick\n",
    "import matplotlib.cm as cm\n",
    "from matplotlib.gridspec import GridSpec\n",
    "%matplotlib inline\n",
    "plt.rc('text', usetex=True)\n",
    "plt.rc('font', family='serif')"
   ]
  },
  {
   "cell_type": "markdown",
   "id": "a4c0d0e7-2df7-4081-9cda-70af8f52b24a",
   "metadata": {},
   "source": [
    "## importar datos"
   ]
  },
  {
   "cell_type": "code",
   "execution_count": 3,
   "id": "b213d388-3b4e-4353-9275-e21ebd8c3bc8",
   "metadata": {},
   "outputs": [],
   "source": [
    "prof1 = sio.loadmat(\"data/018517_20120217_1505_data.mat\")\n",
    "RBR = prof1[\"RBR\"]"
   ]
  },
  {
   "cell_type": "code",
   "execution_count": null,
   "id": "4518804a-121a-42c7-bbce-dcfcc38b74a4",
   "metadata": {},
   "outputs": [],
   "source": []
  }
 ],
 "metadata": {
  "kernelspec": {
   "display_name": "pesc-prj",
   "language": "python",
   "name": "pesc-prj"
  },
  "language_info": {
   "codemirror_mode": {
    "name": "ipython",
    "version": 3
   },
   "file_extension": ".py",
   "mimetype": "text/x-python",
   "name": "python",
   "nbconvert_exporter": "python",
   "pygments_lexer": "ipython3",
   "version": "3.9.2"
  }
 },
 "nbformat": 4,
 "nbformat_minor": 5
}
