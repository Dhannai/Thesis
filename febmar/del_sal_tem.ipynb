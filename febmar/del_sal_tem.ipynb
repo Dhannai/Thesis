{
 "cells": [
  {
   "cell_type": "code",
   "execution_count": 34,
   "metadata": {},
   "outputs": [],
   "source": [
    "import numpy as np\n",
    "import pandas as pd\n",
    "import xarray as xr\n",
    "import matplotlib.pyplot as plt\n",
    "import scipy.io as sio\n",
    "from datetime import datetime, timedelta\n",
    "import gsw\n",
    "import matplotlib.dates as mdates\n",
    "import matplotlib.ticker as tick\n",
    "import matplotlib.cm as cm\n",
    "from matplotlib.gridspec import GridSpec\n",
    "%matplotlib inline\n",
    "plt.rc('text', usetex=True)\n",
    "plt.rc('font', family='serif')"
   ]
  },
  {
   "cell_type": "code",
   "execution_count": 2,
   "metadata": {},
   "outputs": [],
   "source": [
    "import matplotlib.collections as collections\n",
    "from numpy.fft import fft, ifft, fftshift, fftfreq\n",
    "import pywt\n",
    "from scipy import signal\n",
    "import matplotlib as mpl\n",
    "from scipy.interpolate import griddata\n",
    "\n",
    "from sklearn.linear_model import LinearRegression"
   ]
  },
  {
   "cell_type": "markdown",
   "metadata": {},
   "source": [
    "## funciones"
   ]
  },
  {
   "cell_type": "code",
   "execution_count": 3,
   "metadata": {},
   "outputs": [],
   "source": [
    "def to_data(date,da,s,temp):\n",
    "    x = pd.DataFrame({'Datetime': pd.to_datetime(date, format='%d-%b-%Y %H:%M:%S'), 'Depth': da[:,0], 'Salinity': s[:,0], 'Temperature': temp[:,0]})\n",
    "    x = x.set_index('Datetime')\n",
    "    return x  "
   ]
  },
  {
   "cell_type": "code",
   "execution_count": 4,
   "metadata": {},
   "outputs": [],
   "source": [
    "def to_density(z, sal, temp, lat):\n",
    "    p = gsw.p_from_z(-z, lat)\n",
    "    rho = gsw.rho_t_exact(sal, temp, p)\n",
    "    return rho"
   ]
  },
  {
   "cell_type": "code",
   "execution_count": 5,
   "metadata": {},
   "outputs": [],
   "source": [
    "def earth_to_uv(dfe, dfn, a): \n",
    "    \"This takes 2 dataframes of east and north coordinates respectively and the regresion coeficient and transforms them to the direction of the coeficient\"\n",
    "    alpha = np.arctan(a) #Ángulo\n",
    "    t, b = dfe.shape \n",
    "    M = np.array([[-np.cos(alpha), np.sin(alpha)],\n",
    "                  [np.sin(alpha), np.cos(alpha)]]) #Matriz de transfomación\n",
    "    columns = dfe.columns\n",
    "    u = np.zeros((0,t)) #Inicialización de variables\n",
    "    v = np.zeros((0,t)) #Inicialización de variables\n",
    "    for i in columns: #Iteración sobre las columnas de los dataframes\n",
    "        bin_ = np.array([[dfe[i].values],\n",
    "                        [dfn[i].values]]) # Matriz de coordenadas east-north\n",
    "        ui, vi = np.tensordot(M, bin_, 1) #Multiplicación matricial\n",
    "        u = np.concatenate((u, ui), axis=0) #Unión de los resultados de u\n",
    "        v = np.concatenate((v, vi), axis=0)#Unión de los resultados de v\n",
    "    return u, v"
   ]
  },
  {
   "cell_type": "code",
   "execution_count": 6,
   "metadata": {},
   "outputs": [],
   "source": [
    "import math\n",
    "\n",
    "def haversine(lat1, lon1, lat2, lon2):\n",
    "    rad = math.pi/180\n",
    "    dlat = lat2 - lat1\n",
    "    dlon = lon2 - lon1\n",
    "    R = 6372.795477598 # km radio de la tierra\n",
    "    a = (math.sin(rad*dlat/2))**2 + math.cos(rad*lat1)*math.cos(rad*lat2)*(math.sin(rad*dlon/2))**2\n",
    "    dist = 2*R*math.asin(math.sqrt(a))\n",
    "    return dist"
   ]
  },
  {
   "cell_type": "markdown",
   "metadata": {},
   "source": [
    "# Importar y arreglar datos"
   ]
  },
  {
   "cell_type": "code",
   "execution_count": 8,
   "metadata": {},
   "outputs": [],
   "source": [
    "# feb16 = xr.open_dataset(\"data/adcp2012feb.nc\")\n",
    "# newfeb = feb16.sel(time=slice(\"2012-02-17\",\"2012-03-08\"))\n",
    "# adcp = xr.open_dataset(\"C://Users//Dhannai//Documents//git//dump//adcp//data//adcp2012feb.nc\")\n",
    "\n",
    "UV_burst = xr.open_dataset(\"data/UV_burst.nc\")\n",
    "EN_burst = xr.open_dataset(\"data/EastNorth_burst.nc\")\n",
    "vert_burst = pd.read_csv('burst_vert.csv')"
   ]
  },
  {
   "cell_type": "code",
   "execution_count": 9,
   "metadata": {},
   "outputs": [],
   "source": [
    "# adcp = xr.open_dataset(\"C://Users//dhann//Documents//git//dump//adcp//data//adcp2012feb.nc\")\n",
    "# adcp = xr.open_dataset(\"C://Users//Dhannai//Documents//git//dump//adcp//data//adcp2012feb.nc\")"
   ]
  },
  {
   "cell_type": "code",
   "execution_count": 10,
   "metadata": {},
   "outputs": [],
   "source": [
    "#Convertir velocidades a DataFrames\n",
    "columnas = ['bin_1','bin_2','bin_3','bin_4','bin_5','bin_6','bin_7','bin_8','bin_9','bin_10','bin_11','bin_12','bin_13','bin_14','bin_15','bin_16','bin_17','bin_18','bin_19','bin_20','bin_21','bin_22','bin_23','bin_24','bin_25']\n",
    "\n",
    "df_east = pd.DataFrame(EN_burst.east.values, columns = columnas)\n",
    "df_east.index = EN_burst.time.values\n",
    "\n",
    "df_north = pd.DataFrame(EN_burst.north.values, columns = columnas)\n",
    "df_north.index = EN_burst.time.values\n",
    "\n",
    "u, v = earth_to_uv(df_east, df_north, 1.13493621)\n",
    "\n",
    "df_u = pd.DataFrame(np.transpose(u), columns = columnas)\n",
    "df_u.index = EN_burst.time.values\n",
    "\n",
    "df_v = pd.DataFrame(np.transpose(v), columns = columnas)\n",
    "df_v.index = EN_burst.time.values\n",
    "\n",
    "vert_burst.index = pd.to_datetime(vert_burst['Unnamed: 0'], format='%Y-%m-%d %H:%M:%S')\n",
    "vert_burst = vert_burst.drop(['Unnamed: 0'], axis=1)"
   ]
  },
  {
   "cell_type": "code",
   "execution_count": 11,
   "metadata": {},
   "outputs": [],
   "source": [
    "# DC = sio.loadmat(\"C://Users//Dhannai//OneDrive//Documents//Magister//Estuario Pescadero//janmar2012//wdates_local//DC_ctds_localdates.mat\")\n",
    "# NM = sio.loadmat(\"C://Users//Dhannai//OneDrive//Documents//Magister//Estuario Pescadero//janmar2012//wdates_local//NM_ctds_localdates.mat\")\n",
    "# ML = sio.loadmat(\"C://Users//Dhannai//OneDrive//Documents//Magister//Estuario Pescadero//janmar2012//wdates_local//AC_ctds_localdates.mat\")\n",
    "# PC = sio.loadmat(\"C://Users//Dhannai//OneDrive//Documents//Magister//Estuario Pescadero//janmar2012//wdates_local//PC_ctds_localdates.mat\")\n",
    "\n",
    "DC = sio.loadmat(\"C://Users//dhann//OneDrive//Documents//Magister//Estuario Pescadero//janmar2012//wdates_local//DC_ctds_localdates.mat\")\n",
    "NM = sio.loadmat(\"C://Users//dhann//OneDrive//Documents//Magister//Estuario Pescadero//janmar2012//wdates_local//NM_ctds_localdates.mat\")\n",
    "ML = sio.loadmat(\"C://Users//dhann//OneDrive//Documents//Magister//Estuario Pescadero//janmar2012//wdates_local//AC_ctds_localdates.mat\")\n",
    "PC = sio.loadmat(\"C://Users//dhann//OneDrive//Documents//Magister//Estuario Pescadero//janmar2012//wdates_local//PC_ctds_localdates.mat\")"
   ]
  },
  {
   "cell_type": "code",
   "execution_count": 12,
   "metadata": {},
   "outputs": [],
   "source": [
    "DC_1 = to_data(DC['tdate_dc1'], DC['da_dc1'], DC['s_dc1'], DC['temp_dc1'])\n",
    "DC_2 = to_data(DC['tdate_dc2'], DC['da_dc2'], DC['s_dc2'], DC['temp_dc2'])\n",
    "DC_3 = to_data(DC['tdate_dc3'], DC['da_dc3'], DC['s_dc3'], DC['temp_dc3'])\n",
    "DC_4 = to_data(DC['tdate_dc4'], DC['da_dc4'], DC['s_dc4'], DC['temp_dc4'])\n",
    "\n",
    "NM_1 = to_data(NM['tdate_nm1'], NM['da_nm1'], NM['s_nm1'], NM['temp_nm1'])\n",
    "NM_2 = to_data(NM['tdate_nm2'], NM['da_nm2'], NM['s_nm2'], NM['temp_nm2'])\n",
    "NM_3 = to_data(NM['tdate_nm3'], NM['da_nm3'], NM['s_nm3'], NM['temp_nm3'])\n",
    "\n",
    "ML_1 = to_data(ML['tdate_ac1'], ML['da_ac1'], ML['s_ac1'], ML['temp_ac1'])\n",
    "ML_2 = to_data(ML['tdate_ac2'], ML['da_ac2'], ML['s_ac2'], ML['temp_ac2'])\n",
    "\n",
    "PC_1 = to_data(PC['tdate_pc'], PC['da_pc'], PC['s_pc'], PC['temp_pc'])"
   ]
  },
  {
   "cell_type": "code",
   "execution_count": 13,
   "metadata": {},
   "outputs": [],
   "source": [
    "#Viento\n",
    "df2 = pd.read_table('C://Users//dhann//OneDrive//Documents//Magister//Estuario Pescadero//meteorological_station//raw//CR200Series_sixmin_pescadero_20120301.dat', sep=\",\", header=[1, 2, 3])\n",
    "df2 = pd.DataFrame(df2.values, columns = ['TIMESTAMP','RECORD','Speed','Direction','Winddir_D2','airTC','RH'])\n",
    "df2 = df2.set_index('TIMESTAMP')\n",
    "df3 = pd.read_table('C://Users//dhann//OneDrive//Documents//Magister//Estuario Pescadero//meteorological_station//raw//CR200Series_sixmin_pescadero_20120419.dat', sep=\",\", header=[1, 2, 3])\n",
    "df3 = pd.DataFrame(df3.values, columns = ['TIMESTAMP','RECORD','Speed','Direction','Winddir_D2','airTC','RH'])\n",
    "df3 = df3.set_index('TIMESTAMP')\n",
    "result = pd.concat([df2, df3], ignore_index=False, sort=False)\n",
    "result.index = pd.to_datetime(result.index)\n",
    "w = result"
   ]
  },
  {
   "cell_type": "code",
   "execution_count": 14,
   "metadata": {},
   "outputs": [],
   "source": [
    "north_w = np.float64(w['Speed'])*np.sin(np.pi*np.float64(w['Direction'])/180)\n",
    "east_w = np.float64(w['Speed'])*np.cos(np.pi*np.float64(w['Direction'])/180)\n",
    "north_w = pd.DataFrame(data=north_w, columns=['viento'])\n",
    "east_w = pd.DataFrame(data=east_w, columns=['viento'])\n",
    "\n",
    "uw, vw = earth_to_uv(east_w, north_w, 0.79970532)\n",
    "\n",
    "dfw = pd.DataFrame(np.transpose(np.array([uw[0,:], vw[0,:]])), columns=['u', 'v'])\n",
    "dfw.index = w.index"
   ]
  },
  {
   "cell_type": "code",
   "execution_count": 15,
   "metadata": {},
   "outputs": [],
   "source": [
    "#Leer datos caudal\n",
    "Q = pd.read_csv(\"data\\\\febmar2012.csv\")\n",
    "lista_nombres= [\"nan1\", \"fecha\", \"nan2\", \"sensor\", \n",
    "                \"caudal\", \"A\"]\n",
    "Q.columns=lista_nombres\n",
    "Q = Q.drop(columns=['nan1', 'nan2', 'sensor', 'A']).reset_index()\n",
    "Q = Q.drop(columns=['level_0', 'level_1'])\n",
    "Q[\"fecha\"] = pd.to_datetime(Q[\"fecha\"].values)"
   ]
  },
  {
   "cell_type": "code",
   "execution_count": 16,
   "metadata": {},
   "outputs": [],
   "source": [
    "#Importar caudal de pescadero cada 15 min en GMT\n",
    "# https://nwis.waterservices.usgs.gov/nwis/iv/?sites=11162500&parameterCd=00060&startDT=2011-07-07T00:00:00.000-07:00&endDT=2012-07-07T23:59:59.999-07:00&siteStatus=all&format=rdb\n",
    "Q = pd.read_csv(\"data\\\\caudal2012.csv\", sep=';')\n",
    "Q = Q.drop(['5s', '15s', '14n', 'Unnamed: 6'], axis=1)\n",
    "Q['index'] = pd.to_datetime(Q['20d'] + ' ' + Q['6s'], format='%d-%m-%Y %H:%M')\n",
    "Q = Q.set_index('index')\n",
    "Q = Q.drop(['20d', '6s'], axis=1)"
   ]
  },
  {
   "cell_type": "code",
   "execution_count": 17,
   "metadata": {},
   "outputs": [],
   "source": [
    "#Importar nivel de agua cada 6 min en hora local\n",
    "snfco = pd.read_csv(\"data/CO-OPS_9414290_met.csv\")\n",
    "snfco = snfco.drop(['Predicted (m)', 'Preliminary (m)'], axis=1)\n",
    "snfco['index'] = pd.to_datetime(snfco['Date'] + ' ' + snfco['Time (LST/LDT)'], format='%Y-%m-%d %H:%M')\n",
    "snfco = snfco.set_index('index')\n",
    "snfco = snfco.drop(['Date', 'Time (LST/LDT)'], axis=1)\n",
    "\n",
    "mnty = pd.read_csv(\"data/CO-OPS_9413450_met.csv\")\n",
    "mnty = mnty.drop(['Predicted (m)', 'Preliminary (m)'], axis=1)\n",
    "mnty['index'] = pd.to_datetime(mnty['Date'] + ' ' + mnty['Time (LST/LDT)'], format='%Y-%m-%d %H:%M')\n",
    "mnty = mnty.set_index('index')\n",
    "mnty = mnty.drop(['Date', 'Time (LST/LDT)'], axis=1)"
   ]
  },
  {
   "cell_type": "code",
   "execution_count": 18,
   "metadata": {},
   "outputs": [],
   "source": [
    "#Importar datos boya 46012 (Half moon bay)\n",
    "# https://www.ndbc.noaa.gov/station_history.php?station=46012\n",
    "hmoon = pd.read_csv(\"data/46012h2012.csv\", sep=';', header=0)\n",
    "hmoon = hmoon.drop(['PRES','TIDE', 'ATMP', 'WTMP','DEWP', 'VIS', 'WDI', 'R WSP', 'D GST'], axis=1)\n",
    "hmoon = hmoon.drop([0], axis=0)\n",
    "hmoon['index'] = pd.to_datetime(hmoon['#YY'] + '-' + hmoon['MM'] + '-' + hmoon['DD'] + ' ' + hmoon['hh'] + ':' + hmoon['mm'], format='%Y-%m-%d %H:%M')\n",
    "hmoon = hmoon.set_index('index')\n",
    "hmoon = hmoon.drop(['#YY', 'MM', 'DD', 'hh', 'mm'], axis=1)\n",
    "hmoon['WVHT'] = hmoon['WVHT'].astype('float64')\n",
    "hmoon['DPD'] = hmoon['DPD'].astype('float64')\n",
    "hmoon['APD'] = hmoon['APD'].astype('float64')\n",
    "hmoon['MWD'] = hmoon['MWD'].astype('float64')\n",
    "hmoon = hmoon.drop([datetime.datetime(2012,2,14,19,50,0), datetime.datetime(2012,2,22,11,50,0), datetime.datetime(2012,2,23,11,50,0)], axis=0)\n",
    "# WVHT: Significant wave height\n",
    "# DPD: Dominant wave period (seconds) is the period with the maximum wave energy.\n",
    "# APD: Average wave period (seconds) of all waves during the 20-minute period. "
   ]
  },
  {
   "cell_type": "code",
   "execution_count": null,
   "metadata": {},
   "outputs": [],
   "source": [
    "#Importar datos de backscatter\n",
    "bks_drp = np.load(\"C://Users//Dhannai//Documents//git//dump//bks_drp.npy\")\n",
    "bks_drp1 = np.load(\"C://Users//Dhannai//Documents//git//dump//bks_drp1.npy\")\n",
    "bks_drp2 = np.load(\"C://Users//Dhannai//Documents//git//dump//bks_drp2.npy\")\n",
    "bks_drp3 = np.load(\"C://Users//Dhannai//Documents//git//dump//bks_drp3.npy\")\n",
    "bks_drp4 = np.load(\"C://Users//Dhannai//Documents//git//dump//bks_drp4.npy\")\n",
    "# bks_drp1 = np.load(\"data/bks_drp1.npy\")\n",
    "# bks_drp2 = np.load(\"data/bks_drp2.npy\")\n",
    "# bks_drp3 = np.load(\"data/bks_drp3.npy\")\n",
    "# bks_drp4 = np.load(\"data/bks_drp4.npy\")"
   ]
  },
  {
   "cell_type": "markdown",
   "metadata": {},
   "source": [
    "## Perfiles"
   ]
  },
  {
   "cell_type": "code",
   "execution_count": 19,
   "metadata": {},
   "outputs": [],
   "source": [
    "p1 = pd.read_csv(\"data/perfil1.csv\", sep=';')\n",
    "p1 = p1.drop(['Conductividad', 'Presión', 'Turbidez','Conduct Especifica', 'Density anomaly', 'C'], axis=1)"
   ]
  },
  {
   "cell_type": "markdown",
   "metadata": {},
   "source": [
    "## Densidad"
   ]
  },
  {
   "cell_type": "code",
   "execution_count": 20,
   "metadata": {},
   "outputs": [],
   "source": [
    "rho_dc1 = to_density(DC_1['Depth'], DC_1['Salinity'], DC_1['Temperature'], 37.26)\n",
    "rho_dc2 = to_density(DC_2['Depth'], DC_2['Salinity'], DC_2['Temperature'], 37.26)\n",
    "rho_dc3 = to_density(DC_3['Depth'], DC_3['Salinity'], DC_3['Temperature'], 37.26)\n",
    "rho_dc4 = to_density(DC_4['Depth'], DC_4['Salinity'], DC_4['Temperature'], 37.26)\n",
    "\n",
    "DC_1['densidad'] = rho_dc1\n",
    "DC_2['densidad'] = rho_dc2\n",
    "DC_3['densidad'] = rho_dc3\n",
    "DC_4['densidad'] = rho_dc4"
   ]
  },
  {
   "cell_type": "code",
   "execution_count": 21,
   "metadata": {},
   "outputs": [],
   "source": [
    "rho_nm1 = to_density(NM_1['Depth'], NM_1['Salinity'], NM_1['Temperature'], 37.26)\n",
    "rho_nm2 = to_density(NM_2['Depth'], NM_2['Salinity'], NM_2['Temperature'], 37.26)\n",
    "rho_nm3 = to_density(NM_3['Depth'], NM_3['Salinity'], NM_3['Temperature'], 37.26)\n",
    "\n",
    "NM_1['densidad'] = rho_nm1\n",
    "NM_2['densidad'] = rho_nm2\n",
    "NM_3['densidad'] = rho_nm3"
   ]
  },
  {
   "cell_type": "code",
   "execution_count": 22,
   "metadata": {},
   "outputs": [],
   "source": [
    "rho_ml1 = to_density(ML_1['Depth'], ML_1['Salinity'], ML_1['Temperature'], 37.26)\n",
    "rho_ml2 = to_density(ML_2['Depth'], ML_2['Salinity'], ML_2['Temperature'], 37.26)\n",
    "\n",
    "ML_1['densidad'] = rho_ml1\n",
    "ML_2['densidad'] = rho_ml2"
   ]
  },
  {
   "cell_type": "code",
   "execution_count": 23,
   "metadata": {},
   "outputs": [],
   "source": [
    "rho_pc = to_density(PC_1['Depth'], PC_1['Salinity'], PC_1['Temperature'], 37.26)\n",
    "\n",
    "PC_1['densidad'] = rho_pc"
   ]
  },
  {
   "cell_type": "markdown",
   "metadata": {},
   "source": [
    "## viento"
   ]
  },
  {
   "cell_type": "code",
   "execution_count": 24,
   "metadata": {},
   "outputs": [],
   "source": [
    "rho_air = 1.2\n",
    "cd = 0.0012\n",
    "\n",
    "dfw = rho_air*cd*dfw*abs(dfw)"
   ]
  },
  {
   "cell_type": "markdown",
   "metadata": {},
   "source": [
    "# Revision de datos"
   ]
  },
  {
   "cell_type": "code",
   "execution_count": 90,
   "metadata": {},
   "outputs": [],
   "source": [
    "dc1 = DC_1.loc[datetime(2012,2,11,0,0,0):datetime(2012,2,24,21,5,0)]"
   ]
  },
  {
   "cell_type": "code",
   "execution_count": 91,
   "metadata": {},
   "outputs": [
    {
     "data": {
      "image/png": "[encoded data removed]",
      "text/plain": [
       "<Figure size 576x360 with 2 Axes>"
      ]
     },
     "metadata": {
      "needs_background": "light"
     },
     "output_type": "display_data"
    }
   ],
   "source": [
    "fig, (ax1, ax2) = plt.subplots(nrows=2, figsize=(8, 5), constrained_layout=True, sharex=True)\n",
    "\n",
    "#Formato fecha\n",
    "locator = mdates.AutoDateLocator()\n",
    "formatter = mdates.ConciseDateFormatter(locator)\n",
    "\n",
    "ax1.set_ylabel(r\"Temperature \",\n",
    "          fontsize=16)\n",
    "\n",
    "ax1.plot(dc1.index, dc1[\"Temperature\"].values, c='b', alpha=0.8, linewidth=0.8, label='top-bottom')\n",
    "\n",
    "ax1.xaxis.set_tick_params(labelsize=16)\n",
    "ax1.yaxis.set_tick_params(labelsize=16)\n",
    "ax1.grid(alpha=0.5)\n",
    "\n",
    "ax2.set_ylabel(r\"Salinity \",\n",
    "          fontsize=16)\n",
    "\n",
    "ax2.plot(dc1.index, dc1[\"Salinity\"].values, c='b', alpha=0.8, linewidth=0.8, label='top-bottom')\n",
    "\n",
    "ax2.xaxis.set_tick_params(labelsize=16)\n",
    "ax2.yaxis.set_tick_params(labelsize=16)\n",
    "ax2.grid(alpha=0.5)\n",
    "\n",
    "# ax2.set_xlim(datetime(2012,1,17,14,0,0), datetime(2012,1,21,12,0,0))\n",
    "\n",
    "\n",
    "\n",
    "# Ajustar formato fecha\n",
    "ax1.xaxis.set_major_locator(locator)\n",
    "ax1.xaxis.set_major_formatter(formatter)"
   ]
  },
  {
   "cell_type": "code",
   "execution_count": 86,
   "metadata": {},
   "outputs": [
    {
     "data": {
      "text/plain": [
       "Datetime\n",
       "2012-02-12 21:00:00    30.989280\n",
       "2012-02-12 21:00:10    30.991781\n",
       "2012-02-12 21:00:20    30.989454\n",
       "2012-02-12 21:00:30    30.990236\n",
       "2012-02-12 21:00:40    30.991533\n",
       "2012-02-12 21:00:50    30.995256\n",
       "2012-02-12 21:01:00    30.993691\n",
       "2012-02-12 21:01:10    30.993553\n",
       "2012-02-12 21:01:20    30.994791\n",
       "2012-02-12 21:01:30    30.994651\n",
       "2012-02-12 21:01:40    30.993770\n",
       "2012-02-12 21:01:50    30.990470\n",
       "2012-02-12 21:02:00    30.990291\n",
       "2012-02-12 21:02:10    30.989553\n",
       "2012-02-12 21:02:20    30.993425\n",
       "2012-02-12 21:02:30    30.995573\n",
       "2012-02-12 21:02:40    30.996102\n",
       "2012-02-12 21:02:50    30.995022\n",
       "2012-02-12 21:03:00    30.991891\n",
       "2012-02-12 21:03:10    30.991860\n",
       "2012-02-12 21:03:20    30.987472\n",
       "2012-02-12 21:03:30    30.984325\n",
       "2012-02-12 21:03:40    30.983913\n",
       "2012-02-12 21:03:50    30.976870\n",
       "2012-02-12 21:04:00    31.048167\n",
       "2012-02-12 21:04:10    30.772535\n",
       "2012-02-12 21:04:20    28.553184\n",
       "2012-02-12 21:04:30    31.031981\n",
       "2012-02-12 21:04:40    31.034156\n",
       "2012-02-12 21:04:50    31.031401\n",
       "2012-02-12 21:05:00    31.034250\n",
       "Name: Salinity, dtype: float64"
      ]
     },
     "execution_count": 86,
     "metadata": {},
     "output_type": "execute_result"
    }
   ],
   "source": [
    "dc1[\"Salinity\"]"
   ]
  },
  {
   "cell_type": "code",
   "execution_count": 76,
   "metadata": {},
   "outputs": [
    {
     "ename": "KeyError",
     "evalue": "'[datetime.datetime(2012, 1, 17, 12, 30)\\n datetime.datetime(2012, 1, 17, 12, 30, 10)\\n datetime.datetime(2012, 1, 17, 12, 30, 20)\\n datetime.datetime(2012, 1, 17, 12, 30, 30)\\n datetime.datetime(2012, 1, 17, 12, 30, 40)\\n datetime.datetime(2012, 1, 17, 12, 30, 50)\\n datetime.datetime(2012, 1, 17, 12, 31)\\n datetime.datetime(2012, 1, 17, 12, 31, 10)\\n datetime.datetime(2012, 1, 17, 12, 31, 20)\\n datetime.datetime(2012, 1, 17, 12, 31, 30)\\n datetime.datetime(2012, 1, 17, 12, 31, 40)\\n datetime.datetime(2012, 1, 17, 12, 31, 50)\\n datetime.datetime(2012, 1, 17, 12, 32)\\n datetime.datetime(2012, 1, 17, 12, 32, 10)\\n datetime.datetime(2012, 1, 17, 12, 32, 20)\\n datetime.datetime(2012, 1, 17, 12, 32, 30)\\n datetime.datetime(2012, 1, 17, 12, 32, 40)\\n datetime.datetime(2012, 1, 17, 12, 32, 50)\\n datetime.datetime(2012, 1, 17, 12, 33)\\n datetime.datetime(2012, 1, 17, 12, 33, 10)\\n datetime.datetime(2012, 1, 17, 12, 33, 20)\\n datetime.datetime(2012, 1, 17, 12, 33, 30)\\n datetime.datetime(2012, 1, 17, 12, 33, 40)\\n datetime.datetime(2012, 1, 17, 12, 33, 50)\\n datetime.datetime(2012, 1, 17, 12, 34)\\n datetime.datetime(2012, 1, 17, 12, 34, 10)\\n datetime.datetime(2012, 1, 17, 12, 34, 20)\\n datetime.datetime(2012, 1, 17, 12, 34, 30)\\n datetime.datetime(2012, 1, 17, 12, 34, 40)\\n datetime.datetime(2012, 1, 17, 12, 34, 50)\\n datetime.datetime(2012, 1, 17, 12, 35)\\n datetime.datetime(2012, 1, 17, 12, 35, 10)\\n datetime.datetime(2012, 1, 17, 12, 35, 20)\\n datetime.datetime(2012, 1, 17, 12, 35, 30)\\n datetime.datetime(2012, 1, 17, 12, 35, 40)\\n datetime.datetime(2012, 1, 17, 12, 35, 50)\\n datetime.datetime(2012, 1, 17, 12, 36)\\n datetime.datetime(2012, 1, 17, 12, 36, 10)\\n datetime.datetime(2012, 1, 17, 12, 36, 20)\\n datetime.datetime(2012, 1, 17, 12, 36, 30)\\n datetime.datetime(2012, 1, 17, 12, 36, 40)\\n datetime.datetime(2012, 1, 17, 12, 36, 50)\\n datetime.datetime(2012, 1, 17, 12, 37)\\n datetime.datetime(2012, 1, 17, 12, 37, 10)\\n datetime.datetime(2012, 1, 17, 12, 37, 20)\\n datetime.datetime(2012, 1, 17, 12, 37, 30)\\n datetime.datetime(2012, 1, 17, 12, 37, 40)\\n datetime.datetime(2012, 1, 17, 12, 37, 50)\\n datetime.datetime(2012, 1, 17, 12, 38)\\n datetime.datetime(2012, 1, 17, 12, 38, 10)\\n datetime.datetime(2012, 1, 17, 12, 38, 20)\\n datetime.datetime(2012, 1, 17, 12, 38, 30)\\n datetime.datetime(2012, 1, 17, 12, 38, 40)\\n datetime.datetime(2012, 1, 17, 12, 38, 50)\\n datetime.datetime(2012, 1, 17, 12, 39)\\n datetime.datetime(2012, 1, 17, 12, 39, 10)\\n datetime.datetime(2012, 1, 17, 12, 39, 20)\\n datetime.datetime(2012, 1, 17, 12, 39, 30)\\n datetime.datetime(2012, 1, 17, 12, 39, 40)\\n datetime.datetime(2012, 1, 17, 12, 39, 50)\\n datetime.datetime(2012, 1, 17, 12, 40)\\n datetime.datetime(2012, 1, 17, 12, 40, 10)\\n datetime.datetime(2012, 1, 17, 12, 40, 20)\\n datetime.datetime(2012, 1, 17, 12, 40, 30)\\n datetime.datetime(2012, 1, 17, 12, 40, 40)\\n datetime.datetime(2012, 1, 17, 12, 40, 50)\\n datetime.datetime(2012, 1, 17, 12, 41)\\n datetime.datetime(2012, 1, 17, 12, 41, 10)\\n datetime.datetime(2012, 1, 17, 12, 41, 20)\\n datetime.datetime(2012, 1, 17, 12, 41, 30)\\n datetime.datetime(2012, 1, 17, 12, 41, 40)\\n datetime.datetime(2012, 1, 17, 12, 41, 50)\\n datetime.datetime(2012, 1, 17, 12, 42)\\n datetime.datetime(2012, 1, 17, 12, 42, 10)\\n datetime.datetime(2012, 1, 17, 12, 42, 20)\\n datetime.datetime(2012, 1, 17, 12, 42, 30)\\n datetime.datetime(2012, 1, 17, 12, 42, 40)\\n datetime.datetime(2012, 1, 17, 12, 42, 50)\\n datetime.datetime(2012, 1, 17, 12, 43)\\n datetime.datetime(2012, 1, 17, 12, 43, 10)\\n datetime.datetime(2012, 1, 17, 12, 43, 20)\\n datetime.datetime(2012, 1, 17, 12, 43, 30)\\n datetime.datetime(2012, 1, 17, 12, 43, 40)\\n datetime.datetime(2012, 1, 17, 12, 43, 50)\\n datetime.datetime(2012, 1, 17, 12, 44)\\n datetime.datetime(2012, 1, 17, 12, 44, 10)\\n datetime.datetime(2012, 1, 17, 12, 44, 20)\\n datetime.datetime(2012, 1, 17, 12, 44, 30)\\n datetime.datetime(2012, 1, 17, 12, 44, 40)\\n datetime.datetime(2012, 1, 17, 12, 44, 50)\\n datetime.datetime(2012, 1, 17, 12, 45)\\n datetime.datetime(2012, 1, 17, 12, 45, 10)\\n datetime.datetime(2012, 1, 17, 12, 45, 20)\\n datetime.datetime(2012, 1, 17, 12, 45, 30)\\n datetime.datetime(2012, 1, 17, 12, 45, 40)\\n datetime.datetime(2012, 1, 17, 12, 45, 50)\\n datetime.datetime(2012, 1, 17, 12, 46)\\n datetime.datetime(2012, 1, 17, 12, 46, 10)\\n datetime.datetime(2012, 1, 17, 12, 46, 20)\\n datetime.datetime(2012, 1, 17, 12, 46, 30)\\n datetime.datetime(2012, 1, 17, 12, 46, 40)\\n datetime.datetime(2012, 1, 17, 12, 46, 50)\\n datetime.datetime(2012, 1, 17, 12, 47)\\n datetime.datetime(2012, 1, 17, 12, 47, 10)\\n datetime.datetime(2012, 1, 17, 12, 47, 20)\\n datetime.datetime(2012, 1, 17, 12, 47, 30)\\n datetime.datetime(2012, 1, 17, 12, 47, 40)\\n datetime.datetime(2012, 1, 17, 12, 47, 50)\\n datetime.datetime(2012, 1, 17, 12, 48)\\n datetime.datetime(2012, 1, 17, 12, 48, 10)\\n datetime.datetime(2012, 1, 17, 12, 48, 20)\\n datetime.datetime(2012, 1, 17, 12, 48, 30)\\n datetime.datetime(2012, 1, 17, 12, 48, 40)\\n datetime.datetime(2012, 1, 17, 12, 48, 50)\\n datetime.datetime(2012, 1, 17, 12, 49)\\n datetime.datetime(2012, 1, 17, 12, 49, 10)\\n datetime.datetime(2012, 1, 17, 12, 49, 20)\\n datetime.datetime(2012, 1, 17, 12, 49, 30)\\n datetime.datetime(2012, 1, 17, 12, 49, 40)\\n datetime.datetime(2012, 1, 17, 12, 49, 50)\\n datetime.datetime(2012, 1, 17, 12, 50)\\n datetime.datetime(2012, 1, 17, 12, 50, 10)\\n datetime.datetime(2012, 1, 17, 12, 50, 20)\\n datetime.datetime(2012, 1, 17, 12, 50, 30)\\n datetime.datetime(2012, 1, 17, 12, 50, 40)\\n datetime.datetime(2012, 1, 17, 12, 50, 50)\\n datetime.datetime(2012, 1, 17, 12, 51)\\n datetime.datetime(2012, 1, 17, 12, 51, 10)\\n datetime.datetime(2012, 1, 17, 12, 51, 20)\\n datetime.datetime(2012, 1, 17, 12, 51, 30)\\n datetime.datetime(2012, 1, 17, 12, 51, 40)\\n datetime.datetime(2012, 1, 17, 12, 51, 50)\\n datetime.datetime(2012, 1, 17, 12, 52)\\n datetime.datetime(2012, 1, 17, 12, 52, 10)\\n datetime.datetime(2012, 1, 17, 12, 52, 20)\\n datetime.datetime(2012, 1, 17, 12, 52, 30)\\n datetime.datetime(2012, 1, 17, 12, 52, 40)\\n datetime.datetime(2012, 1, 17, 12, 52, 50)\\n datetime.datetime(2012, 1, 17, 12, 53)\\n datetime.datetime(2012, 1, 17, 12, 53, 10)\\n datetime.datetime(2012, 1, 17, 12, 53, 20)\\n datetime.datetime(2012, 1, 17, 12, 53, 30)\\n datetime.datetime(2012, 1, 17, 12, 53, 40)\\n datetime.datetime(2012, 1, 17, 12, 53, 50)\\n datetime.datetime(2012, 1, 17, 12, 54)\\n datetime.datetime(2012, 1, 17, 12, 54, 10)\\n datetime.datetime(2012, 1, 17, 12, 54, 20)\\n datetime.datetime(2012, 1, 17, 12, 54, 30)\\n datetime.datetime(2012, 1, 17, 12, 54, 40)\\n datetime.datetime(2012, 1, 17, 12, 54, 50)\\n datetime.datetime(2012, 1, 17, 12, 55)\\n datetime.datetime(2012, 1, 17, 12, 55, 10)\\n datetime.datetime(2012, 1, 17, 12, 55, 20)\\n datetime.datetime(2012, 1, 17, 12, 55, 30)\\n datetime.datetime(2012, 1, 17, 12, 55, 40)\\n datetime.datetime(2012, 1, 17, 12, 55, 50)\\n datetime.datetime(2012, 1, 17, 12, 56)\\n datetime.datetime(2012, 1, 17, 12, 56, 10)\\n datetime.datetime(2012, 1, 17, 12, 56, 20)\\n datetime.datetime(2012, 1, 17, 12, 56, 30)\\n datetime.datetime(2012, 1, 17, 12, 56, 40)\\n datetime.datetime(2012, 1, 17, 12, 56, 50)\\n datetime.datetime(2012, 1, 17, 12, 57)\\n datetime.datetime(2012, 1, 17, 12, 57, 10)\\n datetime.datetime(2012, 1, 17, 12, 57, 20)\\n datetime.datetime(2012, 1, 17, 12, 57, 30)\\n datetime.datetime(2012, 1, 17, 12, 57, 40)\\n datetime.datetime(2012, 1, 17, 12, 57, 50)\\n datetime.datetime(2012, 1, 17, 12, 58)\\n datetime.datetime(2012, 1, 17, 12, 58, 10)\\n datetime.datetime(2012, 1, 17, 12, 58, 20)\\n datetime.datetime(2012, 1, 17, 12, 58, 30)\\n datetime.datetime(2012, 1, 17, 12, 58, 40)\\n datetime.datetime(2012, 1, 17, 12, 58, 50)\\n datetime.datetime(2012, 1, 17, 12, 59)\\n datetime.datetime(2012, 1, 17, 12, 59, 10)\\n datetime.datetime(2012, 1, 17, 12, 59, 20)\\n datetime.datetime(2012, 1, 17, 12, 59, 30)\\n datetime.datetime(2012, 1, 17, 12, 59, 40)\\n datetime.datetime(2012, 1, 17, 12, 59, 50)\\n datetime.datetime(2012, 1, 17, 13, 0)\\n datetime.datetime(2012, 1, 17, 13, 0, 10)\\n datetime.datetime(2012, 1, 17, 13, 0, 20)\\n datetime.datetime(2012, 1, 17, 13, 0, 30)\\n datetime.datetime(2012, 1, 17, 13, 0, 40)\\n datetime.datetime(2012, 1, 17, 13, 0, 50)\\n datetime.datetime(2012, 1, 17, 13, 1)\\n datetime.datetime(2012, 1, 17, 13, 1, 10)\\n datetime.datetime(2012, 1, 17, 13, 1, 20)\\n datetime.datetime(2012, 1, 17, 13, 1, 30)\\n datetime.datetime(2012, 1, 17, 13, 1, 40)\\n datetime.datetime(2012, 1, 17, 13, 1, 50)\\n datetime.datetime(2012, 1, 17, 13, 2)\\n datetime.datetime(2012, 1, 17, 13, 2, 10)\\n datetime.datetime(2012, 1, 17, 13, 2, 20)\\n datetime.datetime(2012, 1, 17, 13, 2, 30)\\n datetime.datetime(2012, 1, 17, 13, 2, 40)\\n datetime.datetime(2012, 1, 17, 13, 2, 50)\\n datetime.datetime(2012, 1, 17, 13, 3)\\n datetime.datetime(2012, 1, 17, 13, 3, 10)\\n datetime.datetime(2012, 1, 17, 13, 3, 20)\\n datetime.datetime(2012, 1, 17, 13, 3, 30)\\n datetime.datetime(2012, 1, 17, 13, 3, 40)\\n datetime.datetime(2012, 1, 17, 13, 3, 50)\\n datetime.datetime(2012, 1, 17, 13, 4)\\n datetime.datetime(2012, 1, 17, 13, 4, 10)\\n datetime.datetime(2012, 1, 17, 13, 4, 20)\\n datetime.datetime(2012, 1, 17, 13, 4, 30)\\n datetime.datetime(2012, 1, 17, 13, 4, 40)\\n datetime.datetime(2012, 1, 17, 13, 4, 50)\\n datetime.datetime(2012, 1, 17, 13, 5)\\n datetime.datetime(2012, 1, 17, 13, 5, 10)\\n datetime.datetime(2012, 1, 17, 13, 5, 20)\\n datetime.datetime(2012, 1, 17, 13, 5, 30)\\n datetime.datetime(2012, 1, 17, 13, 5, 40)\\n datetime.datetime(2012, 1, 17, 13, 5, 50)\\n datetime.datetime(2012, 1, 17, 13, 6)\\n datetime.datetime(2012, 1, 17, 13, 6, 10)\\n datetime.datetime(2012, 1, 17, 13, 6, 20)\\n datetime.datetime(2012, 1, 17, 13, 6, 30)\\n datetime.datetime(2012, 1, 17, 13, 6, 40)\\n datetime.datetime(2012, 1, 17, 13, 6, 50)\\n datetime.datetime(2012, 1, 17, 13, 7)\\n datetime.datetime(2012, 1, 17, 13, 7, 10)\\n datetime.datetime(2012, 1, 17, 13, 7, 20)\\n datetime.datetime(2012, 1, 17, 13, 7, 30)\\n datetime.datetime(2012, 1, 17, 13, 7, 40)\\n datetime.datetime(2012, 1, 17, 13, 7, 50)\\n datetime.datetime(2012, 1, 17, 13, 8)\\n datetime.datetime(2012, 1, 17, 13, 8, 10)\\n datetime.datetime(2012, 1, 17, 13, 8, 20)\\n datetime.datetime(2012, 1, 17, 13, 8, 30)\\n datetime.datetime(2012, 1, 17, 13, 8, 40)\\n datetime.datetime(2012, 1, 17, 13, 8, 50)\\n datetime.datetime(2012, 1, 17, 13, 9)\\n datetime.datetime(2012, 1, 17, 13, 9, 10)\\n datetime.datetime(2012, 1, 17, 13, 9, 20)\\n datetime.datetime(2012, 1, 17, 13, 9, 30)\\n datetime.datetime(2012, 1, 17, 13, 9, 40)\\n datetime.datetime(2012, 1, 17, 13, 9, 50)\\n datetime.datetime(2012, 1, 17, 13, 10)\\n datetime.datetime(2012, 1, 17, 13, 10, 10)\\n datetime.datetime(2012, 1, 17, 13, 10, 20)\\n datetime.datetime(2012, 1, 17, 13, 10, 30)\\n datetime.datetime(2012, 1, 17, 13, 10, 40)\\n datetime.datetime(2012, 1, 17, 13, 10, 50)\\n datetime.datetime(2012, 1, 17, 13, 11)\\n datetime.datetime(2012, 1, 17, 13, 11, 10)\\n datetime.datetime(2012, 1, 17, 13, 11, 20)\\n datetime.datetime(2012, 1, 17, 13, 11, 30)\\n datetime.datetime(2012, 1, 17, 13, 11, 40)\\n datetime.datetime(2012, 1, 17, 13, 11, 50)\\n datetime.datetime(2012, 1, 17, 13, 12)\\n datetime.datetime(2012, 1, 17, 13, 12, 10)\\n datetime.datetime(2012, 1, 17, 13, 12, 20)\\n datetime.datetime(2012, 1, 17, 13, 12, 30)\\n datetime.datetime(2012, 1, 17, 13, 12, 40)\\n datetime.datetime(2012, 1, 17, 13, 12, 50)\\n datetime.datetime(2012, 1, 17, 13, 13)\\n datetime.datetime(2012, 1, 17, 13, 13, 10)\\n datetime.datetime(2012, 1, 17, 13, 13, 20)\\n datetime.datetime(2012, 1, 17, 13, 13, 30)\\n datetime.datetime(2012, 1, 17, 13, 13, 40)\\n datetime.datetime(2012, 1, 17, 13, 13, 50)\\n datetime.datetime(2012, 1, 17, 13, 14)\\n datetime.datetime(2012, 1, 17, 13, 14, 10)\\n datetime.datetime(2012, 1, 17, 13, 14, 20)\\n datetime.datetime(2012, 1, 17, 13, 14, 30)\\n datetime.datetime(2012, 1, 17, 13, 14, 40)\\n datetime.datetime(2012, 1, 17, 13, 14, 50)\\n datetime.datetime(2012, 1, 17, 13, 15)\\n datetime.datetime(2012, 1, 17, 13, 15, 10)\\n datetime.datetime(2012, 1, 17, 13, 15, 20)\\n datetime.datetime(2012, 1, 17, 13, 15, 30)\\n datetime.datetime(2012, 1, 17, 13, 15, 40)\\n datetime.datetime(2012, 1, 17, 13, 15, 50)\\n datetime.datetime(2012, 1, 17, 13, 16)\\n datetime.datetime(2012, 1, 17, 13, 16, 10)\\n datetime.datetime(2012, 1, 17, 13, 16, 20)\\n datetime.datetime(2012, 1, 17, 13, 16, 30)\\n datetime.datetime(2012, 1, 17, 13, 16, 40)\\n datetime.datetime(2012, 1, 17, 13, 16, 50)\\n datetime.datetime(2012, 1, 17, 13, 17)\\n datetime.datetime(2012, 1, 17, 13, 17, 10)\\n datetime.datetime(2012, 1, 17, 13, 17, 20)\\n datetime.datetime(2012, 1, 17, 13, 17, 30)\\n datetime.datetime(2012, 1, 17, 13, 17, 40)\\n datetime.datetime(2012, 1, 17, 13, 17, 50)\\n datetime.datetime(2012, 1, 17, 13, 18)\\n datetime.datetime(2012, 1, 17, 13, 18, 10)\\n datetime.datetime(2012, 1, 17, 13, 18, 20)\\n datetime.datetime(2012, 1, 17, 13, 18, 30)\\n datetime.datetime(2012, 1, 17, 13, 18, 40)\\n datetime.datetime(2012, 1, 17, 13, 18, 50)\\n datetime.datetime(2012, 1, 17, 13, 19)\\n datetime.datetime(2012, 1, 17, 13, 19, 10)\\n datetime.datetime(2012, 1, 17, 13, 19, 20)\\n datetime.datetime(2012, 1, 17, 13, 19, 30)\\n datetime.datetime(2012, 1, 17, 13, 19, 40)\\n datetime.datetime(2012, 1, 17, 13, 19, 50)\\n datetime.datetime(2012, 1, 17, 13, 20)\\n datetime.datetime(2012, 1, 17, 13, 20, 10)\\n datetime.datetime(2012, 1, 17, 13, 20, 20)\\n datetime.datetime(2012, 1, 17, 13, 20, 30)\\n datetime.datetime(2012, 1, 17, 13, 20, 40)\\n datetime.datetime(2012, 1, 17, 13, 20, 50)\\n datetime.datetime(2012, 1, 17, 13, 21)\\n datetime.datetime(2012, 1, 17, 13, 21, 10)\\n datetime.datetime(2012, 1, 17, 13, 21, 20)\\n datetime.datetime(2012, 1, 17, 13, 21, 30)\\n datetime.datetime(2012, 1, 17, 13, 21, 40)\\n datetime.datetime(2012, 1, 17, 13, 21, 50)\\n datetime.datetime(2012, 1, 17, 13, 22)\\n datetime.datetime(2012, 1, 17, 13, 22, 10)\\n datetime.datetime(2012, 1, 17, 13, 22, 20)\\n datetime.datetime(2012, 1, 17, 13, 22, 30)\\n datetime.datetime(2012, 1, 17, 13, 22, 40)\\n datetime.datetime(2012, 1, 17, 13, 22, 50)\\n datetime.datetime(2012, 1, 17, 13, 23)\\n datetime.datetime(2012, 1, 17, 13, 23, 10)\\n datetime.datetime(2012, 1, 17, 13, 23, 20)\\n datetime.datetime(2012, 1, 17, 13, 23, 30)\\n datetime.datetime(2012, 1, 17, 13, 23, 40)\\n datetime.datetime(2012, 1, 17, 13, 23, 50)\\n datetime.datetime(2012, 1, 17, 13, 24)\\n datetime.datetime(2012, 1, 17, 13, 24, 10)\\n datetime.datetime(2012, 1, 17, 13, 24, 20)\\n datetime.datetime(2012, 1, 17, 13, 24, 30)\\n datetime.datetime(2012, 1, 17, 13, 24, 40)\\n datetime.datetime(2012, 1, 17, 13, 24, 50)\\n datetime.datetime(2012, 1, 17, 13, 25)\\n datetime.datetime(2012, 1, 17, 13, 25, 10)\\n datetime.datetime(2012, 1, 17, 13, 25, 20)\\n datetime.datetime(2012, 1, 17, 13, 25, 30)\\n datetime.datetime(2012, 1, 17, 13, 25, 40)\\n datetime.datetime(2012, 1, 17, 13, 25, 50)\\n datetime.datetime(2012, 1, 17, 13, 26)\\n datetime.datetime(2012, 1, 17, 13, 26, 10)\\n datetime.datetime(2012, 1, 17, 13, 26, 20)\\n datetime.datetime(2012, 1, 17, 13, 26, 30)\\n datetime.datetime(2012, 1, 17, 13, 26, 40)\\n datetime.datetime(2012, 1, 17, 13, 26, 50)\\n datetime.datetime(2012, 1, 17, 13, 27)\\n datetime.datetime(2012, 1, 17, 13, 27, 10)\\n datetime.datetime(2012, 1, 17, 13, 27, 20)\\n datetime.datetime(2012, 1, 17, 13, 27, 30)\\n datetime.datetime(2012, 1, 17, 13, 27, 40)\\n datetime.datetime(2012, 1, 17, 13, 27, 50)\\n datetime.datetime(2012, 1, 17, 13, 28)\\n datetime.datetime(2012, 1, 17, 13, 28, 10)\\n datetime.datetime(2012, 1, 17, 13, 28, 20)\\n datetime.datetime(2012, 1, 17, 13, 28, 30)\\n datetime.datetime(2012, 1, 17, 13, 28, 40)\\n datetime.datetime(2012, 1, 17, 13, 28, 50)\\n datetime.datetime(2012, 1, 17, 13, 29)\\n datetime.datetime(2012, 1, 17, 13, 29, 10)\\n datetime.datetime(2012, 1, 17, 13, 29, 20)\\n datetime.datetime(2012, 1, 17, 13, 29, 30)\\n datetime.datetime(2012, 1, 17, 13, 29, 40)\\n datetime.datetime(2012, 1, 17, 13, 29, 50)\\n datetime.datetime(2012, 1, 17, 13, 30)\\n datetime.datetime(2012, 1, 17, 13, 30, 10)\\n datetime.datetime(2012, 1, 17, 13, 30, 20)\\n datetime.datetime(2012, 1, 17, 13, 30, 30)\\n datetime.datetime(2012, 1, 17, 13, 30, 40)\\n datetime.datetime(2012, 1, 17, 13, 30, 50)\\n datetime.datetime(2012, 1, 17, 13, 31)\\n datetime.datetime(2012, 1, 17, 13, 31, 10)\\n datetime.datetime(2012, 1, 17, 13, 31, 20)\\n datetime.datetime(2012, 1, 17, 13, 31, 30)\\n datetime.datetime(2012, 1, 17, 13, 31, 40)\\n datetime.datetime(2012, 1, 17, 13, 31, 50)\\n datetime.datetime(2012, 1, 17, 13, 32)\\n datetime.datetime(2012, 1, 17, 13, 32, 10)\\n datetime.datetime(2012, 1, 17, 13, 32, 20)\\n datetime.datetime(2012, 1, 17, 13, 32, 30)\\n datetime.datetime(2012, 1, 17, 13, 32, 40)\\n datetime.datetime(2012, 1, 17, 13, 32, 50)\\n datetime.datetime(2012, 1, 17, 13, 33)\\n datetime.datetime(2012, 1, 17, 13, 33, 10)\\n datetime.datetime(2012, 1, 17, 13, 33, 20)\\n datetime.datetime(2012, 1, 17, 13, 33, 30)\\n datetime.datetime(2012, 1, 17, 13, 33, 40)\\n datetime.datetime(2012, 1, 17, 13, 33, 50)\\n datetime.datetime(2012, 1, 17, 13, 34)\\n datetime.datetime(2012, 1, 17, 13, 34, 10)\\n datetime.datetime(2012, 1, 17, 13, 34, 20)\\n datetime.datetime(2012, 1, 17, 13, 34, 30)\\n datetime.datetime(2012, 1, 17, 13, 34, 40)\\n datetime.datetime(2012, 1, 17, 13, 34, 50)\\n datetime.datetime(2012, 1, 17, 13, 35)\\n datetime.datetime(2012, 1, 17, 13, 35, 10)\\n datetime.datetime(2012, 1, 17, 13, 35, 20)\\n datetime.datetime(2012, 1, 17, 13, 35, 30)\\n datetime.datetime(2012, 1, 17, 13, 35, 40)\\n datetime.datetime(2012, 1, 17, 13, 35, 50)\\n datetime.datetime(2012, 1, 17, 13, 36)\\n datetime.datetime(2012, 1, 17, 13, 36, 10)\\n datetime.datetime(2012, 1, 17, 13, 36, 20)\\n datetime.datetime(2012, 1, 17, 13, 36, 30)\\n datetime.datetime(2012, 1, 17, 13, 36, 40)\\n datetime.datetime(2012, 1, 17, 13, 36, 50)\\n datetime.datetime(2012, 1, 17, 13, 37)\\n datetime.datetime(2012, 1, 17, 13, 37, 10)\\n datetime.datetime(2012, 1, 17, 13, 37, 20)\\n datetime.datetime(2012, 1, 17, 13, 37, 30)\\n datetime.datetime(2012, 1, 17, 13, 37, 40)\\n datetime.datetime(2012, 1, 17, 13, 37, 50)\\n datetime.datetime(2012, 1, 17, 13, 38)\\n datetime.datetime(2012, 1, 17, 13, 38, 10)\\n datetime.datetime(2012, 1, 17, 13, 38, 20)\\n datetime.datetime(2012, 1, 17, 13, 38, 30)\\n datetime.datetime(2012, 1, 17, 13, 38, 40)\\n datetime.datetime(2012, 1, 17, 13, 38, 50)\\n datetime.datetime(2012, 1, 17, 13, 39)\\n datetime.datetime(2012, 1, 17, 13, 39, 10)\\n datetime.datetime(2012, 1, 17, 13, 39, 20)\\n datetime.datetime(2012, 1, 17, 13, 39, 30)\\n datetime.datetime(2012, 1, 17, 13, 39, 40)\\n datetime.datetime(2012, 1, 17, 13, 39, 50)\\n datetime.datetime(2012, 1, 17, 13, 40)\\n datetime.datetime(2012, 1, 17, 13, 40, 10)\\n datetime.datetime(2012, 1, 17, 13, 40, 20)\\n datetime.datetime(2012, 1, 17, 13, 40, 30)\\n datetime.datetime(2012, 1, 17, 13, 40, 40)\\n datetime.datetime(2012, 1, 17, 13, 40, 50)\\n datetime.datetime(2012, 1, 17, 13, 41)\\n datetime.datetime(2012, 1, 17, 13, 41, 10)\\n datetime.datetime(2012, 1, 17, 13, 41, 20)\\n datetime.datetime(2012, 1, 17, 13, 41, 30)\\n datetime.datetime(2012, 1, 17, 13, 41, 40)\\n datetime.datetime(2012, 1, 17, 13, 41, 50)\\n datetime.datetime(2012, 1, 17, 13, 42)\\n datetime.datetime(2012, 1, 17, 13, 42, 10)\\n datetime.datetime(2012, 1, 17, 13, 42, 20)\\n datetime.datetime(2012, 1, 17, 13, 42, 30)\\n datetime.datetime(2012, 1, 17, 13, 42, 40)\\n datetime.datetime(2012, 1, 17, 13, 42, 50)\\n datetime.datetime(2012, 1, 17, 13, 43)\\n datetime.datetime(2012, 1, 17, 13, 43, 10)\\n datetime.datetime(2012, 1, 17, 13, 43, 20)\\n datetime.datetime(2012, 1, 17, 13, 43, 30)\\n datetime.datetime(2012, 1, 17, 13, 43, 40)\\n datetime.datetime(2012, 1, 17, 13, 43, 50)\\n datetime.datetime(2012, 1, 17, 13, 44)\\n datetime.datetime(2012, 1, 17, 13, 44, 10)\\n datetime.datetime(2012, 1, 17, 13, 44, 20)\\n datetime.datetime(2012, 1, 17, 13, 44, 30)\\n datetime.datetime(2012, 1, 17, 13, 44, 40)\\n datetime.datetime(2012, 1, 17, 13, 44, 50)\\n datetime.datetime(2012, 1, 17, 13, 45)\\n datetime.datetime(2012, 1, 17, 13, 45, 10)\\n datetime.datetime(2012, 1, 17, 13, 45, 20)\\n datetime.datetime(2012, 1, 17, 13, 45, 30)\\n datetime.datetime(2012, 1, 17, 13, 45, 40)\\n datetime.datetime(2012, 1, 17, 13, 45, 50)\\n datetime.datetime(2012, 1, 17, 13, 46)\\n datetime.datetime(2012, 1, 17, 13, 46, 10)\\n datetime.datetime(2012, 1, 17, 13, 46, 20)\\n datetime.datetime(2012, 1, 17, 13, 46, 30)\\n datetime.datetime(2012, 1, 17, 13, 46, 40)\\n datetime.datetime(2012, 1, 17, 13, 46, 50)\\n datetime.datetime(2012, 1, 17, 13, 47)\\n datetime.datetime(2012, 1, 17, 13, 47, 10)\\n datetime.datetime(2012, 1, 17, 13, 47, 20)\\n datetime.datetime(2012, 1, 17, 13, 47, 30)\\n datetime.datetime(2012, 1, 17, 13, 47, 40)\\n datetime.datetime(2012, 1, 17, 13, 47, 50)\\n datetime.datetime(2012, 1, 17, 13, 48)\\n datetime.datetime(2012, 1, 17, 13, 48, 10)\\n datetime.datetime(2012, 1, 17, 13, 48, 20)\\n datetime.datetime(2012, 1, 17, 13, 48, 30)\\n datetime.datetime(2012, 1, 17, 13, 48, 40)\\n datetime.datetime(2012, 1, 17, 13, 48, 50)\\n datetime.datetime(2012, 1, 17, 13, 49)\\n datetime.datetime(2012, 1, 17, 13, 49, 10)\\n datetime.datetime(2012, 1, 17, 13, 49, 20)\\n datetime.datetime(2012, 1, 17, 13, 49, 30)\\n datetime.datetime(2012, 1, 17, 13, 49, 40)\\n datetime.datetime(2012, 1, 17, 13, 49, 50)\\n datetime.datetime(2012, 1, 17, 13, 50)\\n datetime.datetime(2012, 1, 17, 13, 50, 10)\\n datetime.datetime(2012, 1, 17, 13, 50, 20)\\n datetime.datetime(2012, 1, 17, 13, 50, 30)\\n datetime.datetime(2012, 1, 17, 13, 50, 40)\\n datetime.datetime(2012, 1, 17, 13, 50, 50)\\n datetime.datetime(2012, 1, 17, 13, 51)\\n datetime.datetime(2012, 1, 17, 13, 51, 10)\\n datetime.datetime(2012, 1, 17, 13, 51, 20)\\n datetime.datetime(2012, 1, 17, 13, 51, 30)\\n datetime.datetime(2012, 1, 17, 13, 51, 40)\\n datetime.datetime(2012, 1, 17, 13, 51, 50)\\n datetime.datetime(2012, 1, 17, 13, 52)\\n datetime.datetime(2012, 1, 17, 13, 52, 10)\\n datetime.datetime(2012, 1, 17, 13, 52, 20)\\n datetime.datetime(2012, 1, 17, 13, 52, 30)\\n datetime.datetime(2012, 1, 17, 13, 52, 40)\\n datetime.datetime(2012, 1, 17, 13, 52, 50)\\n datetime.datetime(2012, 1, 17, 13, 53)\\n datetime.datetime(2012, 1, 17, 13, 53, 10)\\n datetime.datetime(2012, 1, 17, 13, 53, 20)\\n datetime.datetime(2012, 1, 17, 13, 53, 30)\\n datetime.datetime(2012, 1, 17, 13, 53, 40)\\n datetime.datetime(2012, 1, 17, 13, 53, 50)\\n datetime.datetime(2012, 1, 17, 13, 54)\\n datetime.datetime(2012, 1, 17, 13, 54, 10)\\n datetime.datetime(2012, 1, 17, 13, 54, 20)\\n datetime.datetime(2012, 1, 17, 13, 54, 30)\\n datetime.datetime(2012, 1, 17, 13, 54, 40)\\n datetime.datetime(2012, 1, 17, 13, 54, 50)\\n datetime.datetime(2012, 1, 17, 13, 55)\\n datetime.datetime(2012, 1, 17, 13, 55, 10)\\n datetime.datetime(2012, 1, 17, 13, 55, 20)\\n datetime.datetime(2012, 1, 17, 13, 55, 30)\\n datetime.datetime(2012, 1, 17, 13, 55, 40)\\n datetime.datetime(2012, 1, 17, 13, 55, 50)\\n datetime.datetime(2012, 1, 17, 13, 56)\\n datetime.datetime(2012, 1, 17, 13, 56, 10)\\n datetime.datetime(2012, 1, 17, 13, 56, 20)\\n datetime.datetime(2012, 1, 17, 13, 56, 30)\\n datetime.datetime(2012, 1, 17, 13, 56, 40)\\n datetime.datetime(2012, 1, 17, 13, 56, 50)\\n datetime.datetime(2012, 1, 17, 13, 57)\\n datetime.datetime(2012, 1, 17, 13, 57, 10)\\n datetime.datetime(2012, 1, 17, 13, 57, 20)\\n datetime.datetime(2012, 1, 17, 13, 57, 30)\\n datetime.datetime(2012, 1, 17, 13, 57, 40)\\n datetime.datetime(2012, 1, 17, 13, 57, 50)\\n datetime.datetime(2012, 1, 17, 13, 58)\\n datetime.datetime(2012, 1, 17, 13, 58, 10)\\n datetime.datetime(2012, 1, 17, 13, 58, 20)\\n datetime.datetime(2012, 1, 17, 13, 58, 30)\\n datetime.datetime(2012, 1, 17, 13, 58, 40)\\n datetime.datetime(2012, 1, 17, 13, 58, 50)\\n datetime.datetime(2012, 1, 17, 13, 59)\\n datetime.datetime(2012, 1, 17, 13, 59, 10)\\n datetime.datetime(2012, 1, 17, 13, 59, 20)\\n datetime.datetime(2012, 1, 17, 13, 59, 30)\\n datetime.datetime(2012, 1, 17, 13, 59, 40)\\n datetime.datetime(2012, 1, 17, 13, 59, 50)] not found in axis'",
     "output_type": "error",
     "traceback": [
      "\u001b[1;31m---------------------------------------------------------------------------\u001b[0m",
      "\u001b[1;31mKeyError\u001b[0m                                  Traceback (most recent call last)",
      "\u001b[1;32m<ipython-input-76-de3068027f00>\u001b[0m in \u001b[0;36m<module>\u001b[1;34m\u001b[0m\n\u001b[0;32m      1\u001b[0m \u001b[0mt1\u001b[0m \u001b[1;33m=\u001b[0m \u001b[0mnp\u001b[0m\u001b[1;33m.\u001b[0m\u001b[0marange\u001b[0m\u001b[1;33m(\u001b[0m\u001b[0mdatetime\u001b[0m\u001b[1;33m(\u001b[0m\u001b[1;36m2012\u001b[0m\u001b[1;33m,\u001b[0m\u001b[1;36m1\u001b[0m\u001b[1;33m,\u001b[0m\u001b[1;36m17\u001b[0m\u001b[1;33m,\u001b[0m\u001b[1;36m12\u001b[0m\u001b[1;33m,\u001b[0m\u001b[1;36m30\u001b[0m\u001b[1;33m,\u001b[0m\u001b[1;36m0\u001b[0m\u001b[1;33m)\u001b[0m\u001b[1;33m,\u001b[0m \u001b[0mdatetime\u001b[0m\u001b[1;33m(\u001b[0m\u001b[1;36m2012\u001b[0m\u001b[1;33m,\u001b[0m\u001b[1;36m1\u001b[0m\u001b[1;33m,\u001b[0m\u001b[1;36m17\u001b[0m\u001b[1;33m,\u001b[0m\u001b[1;36m14\u001b[0m\u001b[1;33m,\u001b[0m\u001b[1;36m0\u001b[0m\u001b[1;33m,\u001b[0m\u001b[1;36m0\u001b[0m\u001b[1;33m)\u001b[0m\u001b[1;33m,\u001b[0m \u001b[0mtimedelta\u001b[0m\u001b[1;33m(\u001b[0m\u001b[0mseconds\u001b[0m\u001b[1;33m=\u001b[0m\u001b[1;36m10\u001b[0m\u001b[1;33m)\u001b[0m\u001b[1;33m)\u001b[0m\u001b[1;33m.\u001b[0m\u001b[0mastype\u001b[0m\u001b[1;33m(\u001b[0m\u001b[0mdatetime\u001b[0m\u001b[1;33m)\u001b[0m\u001b[1;33m\u001b[0m\u001b[1;33m\u001b[0m\u001b[0m\n\u001b[1;32m----> 2\u001b[1;33m \u001b[0mDC_1\u001b[0m \u001b[1;33m=\u001b[0m \u001b[0mDC_1\u001b[0m\u001b[1;33m.\u001b[0m\u001b[0mdrop\u001b[0m\u001b[1;33m(\u001b[0m\u001b[0mt1\u001b[0m\u001b[1;33m)\u001b[0m\u001b[1;33m\u001b[0m\u001b[1;33m\u001b[0m\u001b[0m\n\u001b[0m\u001b[0;32m      3\u001b[0m \u001b[0mDC_1\u001b[0m \u001b[1;33m=\u001b[0m \u001b[0mDC_1\u001b[0m\u001b[1;33m.\u001b[0m\u001b[0mdrop\u001b[0m\u001b[1;33m(\u001b[0m\u001b[1;33m[\u001b[0m\u001b[0mdatetime\u001b[0m\u001b[1;33m(\u001b[0m\u001b[1;36m2012\u001b[0m\u001b[1;33m,\u001b[0m\u001b[1;36m2\u001b[0m\u001b[1;33m,\u001b[0m\u001b[1;36m12\u001b[0m\u001b[1;33m,\u001b[0m\u001b[1;36m19\u001b[0m\u001b[1;33m,\u001b[0m\u001b[1;36m52\u001b[0m\u001b[1;33m,\u001b[0m\u001b[1;36m10\u001b[0m\u001b[1;33m)\u001b[0m\u001b[1;33m]\u001b[0m\u001b[1;33m)\u001b[0m\u001b[1;33m\u001b[0m\u001b[1;33m\u001b[0m\u001b[0m\n",
      "\u001b[1;32m~\\miniconda3\\envs\\pesc-prj\\lib\\site-packages\\pandas\\core\\frame.py\u001b[0m in \u001b[0;36mdrop\u001b[1;34m(self, labels, axis, index, columns, level, inplace, errors)\u001b[0m\n\u001b[0;32m   4306\u001b[0m                 \u001b[0mweight\u001b[0m  \u001b[1;36m1.0\u001b[0m     \u001b[1;36m0.8\u001b[0m\u001b[1;33m\u001b[0m\u001b[1;33m\u001b[0m\u001b[0m\n\u001b[0;32m   4307\u001b[0m         \"\"\"\n\u001b[1;32m-> 4308\u001b[1;33m         return super().drop(\n\u001b[0m\u001b[0;32m   4309\u001b[0m             \u001b[0mlabels\u001b[0m\u001b[1;33m=\u001b[0m\u001b[0mlabels\u001b[0m\u001b[1;33m,\u001b[0m\u001b[1;33m\u001b[0m\u001b[1;33m\u001b[0m\u001b[0m\n\u001b[0;32m   4310\u001b[0m             \u001b[0maxis\u001b[0m\u001b[1;33m=\u001b[0m\u001b[0maxis\u001b[0m\u001b[1;33m,\u001b[0m\u001b[1;33m\u001b[0m\u001b[1;33m\u001b[0m\u001b[0m\n",
      "\u001b[1;32m~\\miniconda3\\envs\\pesc-prj\\lib\\site-packages\\pandas\\core\\generic.py\u001b[0m in \u001b[0;36mdrop\u001b[1;34m(self, labels, axis, index, columns, level, inplace, errors)\u001b[0m\n\u001b[0;32m   4151\u001b[0m         \u001b[1;32mfor\u001b[0m \u001b[0maxis\u001b[0m\u001b[1;33m,\u001b[0m \u001b[0mlabels\u001b[0m \u001b[1;32min\u001b[0m \u001b[0maxes\u001b[0m\u001b[1;33m.\u001b[0m\u001b[0mitems\u001b[0m\u001b[1;33m(\u001b[0m\u001b[1;33m)\u001b[0m\u001b[1;33m:\u001b[0m\u001b[1;33m\u001b[0m\u001b[1;33m\u001b[0m\u001b[0m\n\u001b[0;32m   4152\u001b[0m             \u001b[1;32mif\u001b[0m \u001b[0mlabels\u001b[0m \u001b[1;32mis\u001b[0m \u001b[1;32mnot\u001b[0m \u001b[1;32mNone\u001b[0m\u001b[1;33m:\u001b[0m\u001b[1;33m\u001b[0m\u001b[1;33m\u001b[0m\u001b[0m\n\u001b[1;32m-> 4153\u001b[1;33m                 \u001b[0mobj\u001b[0m \u001b[1;33m=\u001b[0m \u001b[0mobj\u001b[0m\u001b[1;33m.\u001b[0m\u001b[0m_drop_axis\u001b[0m\u001b[1;33m(\u001b[0m\u001b[0mlabels\u001b[0m\u001b[1;33m,\u001b[0m \u001b[0maxis\u001b[0m\u001b[1;33m,\u001b[0m \u001b[0mlevel\u001b[0m\u001b[1;33m=\u001b[0m\u001b[0mlevel\u001b[0m\u001b[1;33m,\u001b[0m \u001b[0merrors\u001b[0m\u001b[1;33m=\u001b[0m\u001b[0merrors\u001b[0m\u001b[1;33m)\u001b[0m\u001b[1;33m\u001b[0m\u001b[1;33m\u001b[0m\u001b[0m\n\u001b[0m\u001b[0;32m   4154\u001b[0m \u001b[1;33m\u001b[0m\u001b[0m\n\u001b[0;32m   4155\u001b[0m         \u001b[1;32mif\u001b[0m \u001b[0minplace\u001b[0m\u001b[1;33m:\u001b[0m\u001b[1;33m\u001b[0m\u001b[1;33m\u001b[0m\u001b[0m\n",
      "\u001b[1;32m~\\miniconda3\\envs\\pesc-prj\\lib\\site-packages\\pandas\\core\\generic.py\u001b[0m in \u001b[0;36m_drop_axis\u001b[1;34m(self, labels, axis, level, errors)\u001b[0m\n\u001b[0;32m   4186\u001b[0m                 \u001b[0mnew_axis\u001b[0m \u001b[1;33m=\u001b[0m \u001b[0maxis\u001b[0m\u001b[1;33m.\u001b[0m\u001b[0mdrop\u001b[0m\u001b[1;33m(\u001b[0m\u001b[0mlabels\u001b[0m\u001b[1;33m,\u001b[0m \u001b[0mlevel\u001b[0m\u001b[1;33m=\u001b[0m\u001b[0mlevel\u001b[0m\u001b[1;33m,\u001b[0m \u001b[0merrors\u001b[0m\u001b[1;33m=\u001b[0m\u001b[0merrors\u001b[0m\u001b[1;33m)\u001b[0m\u001b[1;33m\u001b[0m\u001b[1;33m\u001b[0m\u001b[0m\n\u001b[0;32m   4187\u001b[0m             \u001b[1;32melse\u001b[0m\u001b[1;33m:\u001b[0m\u001b[1;33m\u001b[0m\u001b[1;33m\u001b[0m\u001b[0m\n\u001b[1;32m-> 4188\u001b[1;33m                 \u001b[0mnew_axis\u001b[0m \u001b[1;33m=\u001b[0m \u001b[0maxis\u001b[0m\u001b[1;33m.\u001b[0m\u001b[0mdrop\u001b[0m\u001b[1;33m(\u001b[0m\u001b[0mlabels\u001b[0m\u001b[1;33m,\u001b[0m \u001b[0merrors\u001b[0m\u001b[1;33m=\u001b[0m\u001b[0merrors\u001b[0m\u001b[1;33m)\u001b[0m\u001b[1;33m\u001b[0m\u001b[1;33m\u001b[0m\u001b[0m\n\u001b[0m\u001b[0;32m   4189\u001b[0m             \u001b[0mresult\u001b[0m \u001b[1;33m=\u001b[0m \u001b[0mself\u001b[0m\u001b[1;33m.\u001b[0m\u001b[0mreindex\u001b[0m\u001b[1;33m(\u001b[0m\u001b[1;33m**\u001b[0m\u001b[1;33m{\u001b[0m\u001b[0maxis_name\u001b[0m\u001b[1;33m:\u001b[0m \u001b[0mnew_axis\u001b[0m\u001b[1;33m}\u001b[0m\u001b[1;33m)\u001b[0m\u001b[1;33m\u001b[0m\u001b[1;33m\u001b[0m\u001b[0m\n\u001b[0;32m   4190\u001b[0m \u001b[1;33m\u001b[0m\u001b[0m\n",
      "\u001b[1;32m~\\miniconda3\\envs\\pesc-prj\\lib\\site-packages\\pandas\\core\\indexes\\base.py\u001b[0m in \u001b[0;36mdrop\u001b[1;34m(self, labels, errors)\u001b[0m\n\u001b[0;32m   5589\u001b[0m         \u001b[1;32mif\u001b[0m \u001b[0mmask\u001b[0m\u001b[1;33m.\u001b[0m\u001b[0many\u001b[0m\u001b[1;33m(\u001b[0m\u001b[1;33m)\u001b[0m\u001b[1;33m:\u001b[0m\u001b[1;33m\u001b[0m\u001b[1;33m\u001b[0m\u001b[0m\n\u001b[0;32m   5590\u001b[0m             \u001b[1;32mif\u001b[0m \u001b[0merrors\u001b[0m \u001b[1;33m!=\u001b[0m \u001b[1;34m\"ignore\"\u001b[0m\u001b[1;33m:\u001b[0m\u001b[1;33m\u001b[0m\u001b[1;33m\u001b[0m\u001b[0m\n\u001b[1;32m-> 5591\u001b[1;33m                 \u001b[1;32mraise\u001b[0m \u001b[0mKeyError\u001b[0m\u001b[1;33m(\u001b[0m\u001b[1;34mf\"{labels[mask]} not found in axis\"\u001b[0m\u001b[1;33m)\u001b[0m\u001b[1;33m\u001b[0m\u001b[1;33m\u001b[0m\u001b[0m\n\u001b[0m\u001b[0;32m   5592\u001b[0m             \u001b[0mindexer\u001b[0m \u001b[1;33m=\u001b[0m \u001b[0mindexer\u001b[0m\u001b[1;33m[\u001b[0m\u001b[1;33m~\u001b[0m\u001b[0mmask\u001b[0m\u001b[1;33m]\u001b[0m\u001b[1;33m\u001b[0m\u001b[1;33m\u001b[0m\u001b[0m\n\u001b[0;32m   5593\u001b[0m         \u001b[1;32mreturn\u001b[0m \u001b[0mself\u001b[0m\u001b[1;33m.\u001b[0m\u001b[0mdelete\u001b[0m\u001b[1;33m(\u001b[0m\u001b[0mindexer\u001b[0m\u001b[1;33m)\u001b[0m\u001b[1;33m\u001b[0m\u001b[1;33m\u001b[0m\u001b[0m\n",
      "\u001b[1;31mKeyError\u001b[0m: '[datetime.datetime(2012, 1, 17, 12, 30)\\n datetime.datetime(2012, 1, 17, 12, 30, 10)\\n datetime.datetime(2012, 1, 17, 12, 30, 20)\\n datetime.datetime(2012, 1, 17, 12, 30, 30)\\n datetime.datetime(2012, 1, 17, 12, 30, 40)\\n datetime.datetime(2012, 1, 17, 12, 30, 50)\\n datetime.datetime(2012, 1, 17, 12, 31)\\n datetime.datetime(2012, 1, 17, 12, 31, 10)\\n datetime.datetime(2012, 1, 17, 12, 31, 20)\\n datetime.datetime(2012, 1, 17, 12, 31, 30)\\n datetime.datetime(2012, 1, 17, 12, 31, 40)\\n datetime.datetime(2012, 1, 17, 12, 31, 50)\\n datetime.datetime(2012, 1, 17, 12, 32)\\n datetime.datetime(2012, 1, 17, 12, 32, 10)\\n datetime.datetime(2012, 1, 17, 12, 32, 20)\\n datetime.datetime(2012, 1, 17, 12, 32, 30)\\n datetime.datetime(2012, 1, 17, 12, 32, 40)\\n datetime.datetime(2012, 1, 17, 12, 32, 50)\\n datetime.datetime(2012, 1, 17, 12, 33)\\n datetime.datetime(2012, 1, 17, 12, 33, 10)\\n datetime.datetime(2012, 1, 17, 12, 33, 20)\\n datetime.datetime(2012, 1, 17, 12, 33, 30)\\n datetime.datetime(2012, 1, 17, 12, 33, 40)\\n datetime.datetime(2012, 1, 17, 12, 33, 50)\\n datetime.datetime(2012, 1, 17, 12, 34)\\n datetime.datetime(2012, 1, 17, 12, 34, 10)\\n datetime.datetime(2012, 1, 17, 12, 34, 20)\\n datetime.datetime(2012, 1, 17, 12, 34, 30)\\n datetime.datetime(2012, 1, 17, 12, 34, 40)\\n datetime.datetime(2012, 1, 17, 12, 34, 50)\\n datetime.datetime(2012, 1, 17, 12, 35)\\n datetime.datetime(2012, 1, 17, 12, 35, 10)\\n datetime.datetime(2012, 1, 17, 12, 35, 20)\\n datetime.datetime(2012, 1, 17, 12, 35, 30)\\n datetime.datetime(2012, 1, 17, 12, 35, 40)\\n datetime.datetime(2012, 1, 17, 12, 35, 50)\\n datetime.datetime(2012, 1, 17, 12, 36)\\n datetime.datetime(2012, 1, 17, 12, 36, 10)\\n datetime.datetime(2012, 1, 17, 12, 36, 20)\\n datetime.datetime(2012, 1, 17, 12, 36, 30)\\n datetime.datetime(2012, 1, 17, 12, 36, 40)\\n datetime.datetime(2012, 1, 17, 12, 36, 50)\\n datetime.datetime(2012, 1, 17, 12, 37)\\n datetime.datetime(2012, 1, 17, 12, 37, 10)\\n datetime.datetime(2012, 1, 17, 12, 37, 20)\\n datetime.datetime(2012, 1, 17, 12, 37, 30)\\n datetime.datetime(2012, 1, 17, 12, 37, 40)\\n datetime.datetime(2012, 1, 17, 12, 37, 50)\\n datetime.datetime(2012, 1, 17, 12, 38)\\n datetime.datetime(2012, 1, 17, 12, 38, 10)\\n datetime.datetime(2012, 1, 17, 12, 38, 20)\\n datetime.datetime(2012, 1, 17, 12, 38, 30)\\n datetime.datetime(2012, 1, 17, 12, 38, 40)\\n datetime.datetime(2012, 1, 17, 12, 38, 50)\\n datetime.datetime(2012, 1, 17, 12, 39)\\n datetime.datetime(2012, 1, 17, 12, 39, 10)\\n datetime.datetime(2012, 1, 17, 12, 39, 20)\\n datetime.datetime(2012, 1, 17, 12, 39, 30)\\n datetime.datetime(2012, 1, 17, 12, 39, 40)\\n datetime.datetime(2012, 1, 17, 12, 39, 50)\\n datetime.datetime(2012, 1, 17, 12, 40)\\n datetime.datetime(2012, 1, 17, 12, 40, 10)\\n datetime.datetime(2012, 1, 17, 12, 40, 20)\\n datetime.datetime(2012, 1, 17, 12, 40, 30)\\n datetime.datetime(2012, 1, 17, 12, 40, 40)\\n datetime.datetime(2012, 1, 17, 12, 40, 50)\\n datetime.datetime(2012, 1, 17, 12, 41)\\n datetime.datetime(2012, 1, 17, 12, 41, 10)\\n datetime.datetime(2012, 1, 17, 12, 41, 20)\\n datetime.datetime(2012, 1, 17, 12, 41, 30)\\n datetime.datetime(2012, 1, 17, 12, 41, 40)\\n datetime.datetime(2012, 1, 17, 12, 41, 50)\\n datetime.datetime(2012, 1, 17, 12, 42)\\n datetime.datetime(2012, 1, 17, 12, 42, 10)\\n datetime.datetime(2012, 1, 17, 12, 42, 20)\\n datetime.datetime(2012, 1, 17, 12, 42, 30)\\n datetime.datetime(2012, 1, 17, 12, 42, 40)\\n datetime.datetime(2012, 1, 17, 12, 42, 50)\\n datetime.datetime(2012, 1, 17, 12, 43)\\n datetime.datetime(2012, 1, 17, 12, 43, 10)\\n datetime.datetime(2012, 1, 17, 12, 43, 20)\\n datetime.datetime(2012, 1, 17, 12, 43, 30)\\n datetime.datetime(2012, 1, 17, 12, 43, 40)\\n datetime.datetime(2012, 1, 17, 12, 43, 50)\\n datetime.datetime(2012, 1, 17, 12, 44)\\n datetime.datetime(2012, 1, 17, 12, 44, 10)\\n datetime.datetime(2012, 1, 17, 12, 44, 20)\\n datetime.datetime(2012, 1, 17, 12, 44, 30)\\n datetime.datetime(2012, 1, 17, 12, 44, 40)\\n datetime.datetime(2012, 1, 17, 12, 44, 50)\\n datetime.datetime(2012, 1, 17, 12, 45)\\n datetime.datetime(2012, 1, 17, 12, 45, 10)\\n datetime.datetime(2012, 1, 17, 12, 45, 20)\\n datetime.datetime(2012, 1, 17, 12, 45, 30)\\n datetime.datetime(2012, 1, 17, 12, 45, 40)\\n datetime.datetime(2012, 1, 17, 12, 45, 50)\\n datetime.datetime(2012, 1, 17, 12, 46)\\n datetime.datetime(2012, 1, 17, 12, 46, 10)\\n datetime.datetime(2012, 1, 17, 12, 46, 20)\\n datetime.datetime(2012, 1, 17, 12, 46, 30)\\n datetime.datetime(2012, 1, 17, 12, 46, 40)\\n datetime.datetime(2012, 1, 17, 12, 46, 50)\\n datetime.datetime(2012, 1, 17, 12, 47)\\n datetime.datetime(2012, 1, 17, 12, 47, 10)\\n datetime.datetime(2012, 1, 17, 12, 47, 20)\\n datetime.datetime(2012, 1, 17, 12, 47, 30)\\n datetime.datetime(2012, 1, 17, 12, 47, 40)\\n datetime.datetime(2012, 1, 17, 12, 47, 50)\\n datetime.datetime(2012, 1, 17, 12, 48)\\n datetime.datetime(2012, 1, 17, 12, 48, 10)\\n datetime.datetime(2012, 1, 17, 12, 48, 20)\\n datetime.datetime(2012, 1, 17, 12, 48, 30)\\n datetime.datetime(2012, 1, 17, 12, 48, 40)\\n datetime.datetime(2012, 1, 17, 12, 48, 50)\\n datetime.datetime(2012, 1, 17, 12, 49)\\n datetime.datetime(2012, 1, 17, 12, 49, 10)\\n datetime.datetime(2012, 1, 17, 12, 49, 20)\\n datetime.datetime(2012, 1, 17, 12, 49, 30)\\n datetime.datetime(2012, 1, 17, 12, 49, 40)\\n datetime.datetime(2012, 1, 17, 12, 49, 50)\\n datetime.datetime(2012, 1, 17, 12, 50)\\n datetime.datetime(2012, 1, 17, 12, 50, 10)\\n datetime.datetime(2012, 1, 17, 12, 50, 20)\\n datetime.datetime(2012, 1, 17, 12, 50, 30)\\n datetime.datetime(2012, 1, 17, 12, 50, 40)\\n datetime.datetime(2012, 1, 17, 12, 50, 50)\\n datetime.datetime(2012, 1, 17, 12, 51)\\n datetime.datetime(2012, 1, 17, 12, 51, 10)\\n datetime.datetime(2012, 1, 17, 12, 51, 20)\\n datetime.datetime(2012, 1, 17, 12, 51, 30)\\n datetime.datetime(2012, 1, 17, 12, 51, 40)\\n datetime.datetime(2012, 1, 17, 12, 51, 50)\\n datetime.datetime(2012, 1, 17, 12, 52)\\n datetime.datetime(2012, 1, 17, 12, 52, 10)\\n datetime.datetime(2012, 1, 17, 12, 52, 20)\\n datetime.datetime(2012, 1, 17, 12, 52, 30)\\n datetime.datetime(2012, 1, 17, 12, 52, 40)\\n datetime.datetime(2012, 1, 17, 12, 52, 50)\\n datetime.datetime(2012, 1, 17, 12, 53)\\n datetime.datetime(2012, 1, 17, 12, 53, 10)\\n datetime.datetime(2012, 1, 17, 12, 53, 20)\\n datetime.datetime(2012, 1, 17, 12, 53, 30)\\n datetime.datetime(2012, 1, 17, 12, 53, 40)\\n datetime.datetime(2012, 1, 17, 12, 53, 50)\\n datetime.datetime(2012, 1, 17, 12, 54)\\n datetime.datetime(2012, 1, 17, 12, 54, 10)\\n datetime.datetime(2012, 1, 17, 12, 54, 20)\\n datetime.datetime(2012, 1, 17, 12, 54, 30)\\n datetime.datetime(2012, 1, 17, 12, 54, 40)\\n datetime.datetime(2012, 1, 17, 12, 54, 50)\\n datetime.datetime(2012, 1, 17, 12, 55)\\n datetime.datetime(2012, 1, 17, 12, 55, 10)\\n datetime.datetime(2012, 1, 17, 12, 55, 20)\\n datetime.datetime(2012, 1, 17, 12, 55, 30)\\n datetime.datetime(2012, 1, 17, 12, 55, 40)\\n datetime.datetime(2012, 1, 17, 12, 55, 50)\\n datetime.datetime(2012, 1, 17, 12, 56)\\n datetime.datetime(2012, 1, 17, 12, 56, 10)\\n datetime.datetime(2012, 1, 17, 12, 56, 20)\\n datetime.datetime(2012, 1, 17, 12, 56, 30)\\n datetime.datetime(2012, 1, 17, 12, 56, 40)\\n datetime.datetime(2012, 1, 17, 12, 56, 50)\\n datetime.datetime(2012, 1, 17, 12, 57)\\n datetime.datetime(2012, 1, 17, 12, 57, 10)\\n datetime.datetime(2012, 1, 17, 12, 57, 20)\\n datetime.datetime(2012, 1, 17, 12, 57, 30)\\n datetime.datetime(2012, 1, 17, 12, 57, 40)\\n datetime.datetime(2012, 1, 17, 12, 57, 50)\\n datetime.datetime(2012, 1, 17, 12, 58)\\n datetime.datetime(2012, 1, 17, 12, 58, 10)\\n datetime.datetime(2012, 1, 17, 12, 58, 20)\\n datetime.datetime(2012, 1, 17, 12, 58, 30)\\n datetime.datetime(2012, 1, 17, 12, 58, 40)\\n datetime.datetime(2012, 1, 17, 12, 58, 50)\\n datetime.datetime(2012, 1, 17, 12, 59)\\n datetime.datetime(2012, 1, 17, 12, 59, 10)\\n datetime.datetime(2012, 1, 17, 12, 59, 20)\\n datetime.datetime(2012, 1, 17, 12, 59, 30)\\n datetime.datetime(2012, 1, 17, 12, 59, 40)\\n datetime.datetime(2012, 1, 17, 12, 59, 50)\\n datetime.datetime(2012, 1, 17, 13, 0)\\n datetime.datetime(2012, 1, 17, 13, 0, 10)\\n datetime.datetime(2012, 1, 17, 13, 0, 20)\\n datetime.datetime(2012, 1, 17, 13, 0, 30)\\n datetime.datetime(2012, 1, 17, 13, 0, 40)\\n datetime.datetime(2012, 1, 17, 13, 0, 50)\\n datetime.datetime(2012, 1, 17, 13, 1)\\n datetime.datetime(2012, 1, 17, 13, 1, 10)\\n datetime.datetime(2012, 1, 17, 13, 1, 20)\\n datetime.datetime(2012, 1, 17, 13, 1, 30)\\n datetime.datetime(2012, 1, 17, 13, 1, 40)\\n datetime.datetime(2012, 1, 17, 13, 1, 50)\\n datetime.datetime(2012, 1, 17, 13, 2)\\n datetime.datetime(2012, 1, 17, 13, 2, 10)\\n datetime.datetime(2012, 1, 17, 13, 2, 20)\\n datetime.datetime(2012, 1, 17, 13, 2, 30)\\n datetime.datetime(2012, 1, 17, 13, 2, 40)\\n datetime.datetime(2012, 1, 17, 13, 2, 50)\\n datetime.datetime(2012, 1, 17, 13, 3)\\n datetime.datetime(2012, 1, 17, 13, 3, 10)\\n datetime.datetime(2012, 1, 17, 13, 3, 20)\\n datetime.datetime(2012, 1, 17, 13, 3, 30)\\n datetime.datetime(2012, 1, 17, 13, 3, 40)\\n datetime.datetime(2012, 1, 17, 13, 3, 50)\\n datetime.datetime(2012, 1, 17, 13, 4)\\n datetime.datetime(2012, 1, 17, 13, 4, 10)\\n datetime.datetime(2012, 1, 17, 13, 4, 20)\\n datetime.datetime(2012, 1, 17, 13, 4, 30)\\n datetime.datetime(2012, 1, 17, 13, 4, 40)\\n datetime.datetime(2012, 1, 17, 13, 4, 50)\\n datetime.datetime(2012, 1, 17, 13, 5)\\n datetime.datetime(2012, 1, 17, 13, 5, 10)\\n datetime.datetime(2012, 1, 17, 13, 5, 20)\\n datetime.datetime(2012, 1, 17, 13, 5, 30)\\n datetime.datetime(2012, 1, 17, 13, 5, 40)\\n datetime.datetime(2012, 1, 17, 13, 5, 50)\\n datetime.datetime(2012, 1, 17, 13, 6)\\n datetime.datetime(2012, 1, 17, 13, 6, 10)\\n datetime.datetime(2012, 1, 17, 13, 6, 20)\\n datetime.datetime(2012, 1, 17, 13, 6, 30)\\n datetime.datetime(2012, 1, 17, 13, 6, 40)\\n datetime.datetime(2012, 1, 17, 13, 6, 50)\\n datetime.datetime(2012, 1, 17, 13, 7)\\n datetime.datetime(2012, 1, 17, 13, 7, 10)\\n datetime.datetime(2012, 1, 17, 13, 7, 20)\\n datetime.datetime(2012, 1, 17, 13, 7, 30)\\n datetime.datetime(2012, 1, 17, 13, 7, 40)\\n datetime.datetime(2012, 1, 17, 13, 7, 50)\\n datetime.datetime(2012, 1, 17, 13, 8)\\n datetime.datetime(2012, 1, 17, 13, 8, 10)\\n datetime.datetime(2012, 1, 17, 13, 8, 20)\\n datetime.datetime(2012, 1, 17, 13, 8, 30)\\n datetime.datetime(2012, 1, 17, 13, 8, 40)\\n datetime.datetime(2012, 1, 17, 13, 8, 50)\\n datetime.datetime(2012, 1, 17, 13, 9)\\n datetime.datetime(2012, 1, 17, 13, 9, 10)\\n datetime.datetime(2012, 1, 17, 13, 9, 20)\\n datetime.datetime(2012, 1, 17, 13, 9, 30)\\n datetime.datetime(2012, 1, 17, 13, 9, 40)\\n datetime.datetime(2012, 1, 17, 13, 9, 50)\\n datetime.datetime(2012, 1, 17, 13, 10)\\n datetime.datetime(2012, 1, 17, 13, 10, 10)\\n datetime.datetime(2012, 1, 17, 13, 10, 20)\\n datetime.datetime(2012, 1, 17, 13, 10, 30)\\n datetime.datetime(2012, 1, 17, 13, 10, 40)\\n datetime.datetime(2012, 1, 17, 13, 10, 50)\\n datetime.datetime(2012, 1, 17, 13, 11)\\n datetime.datetime(2012, 1, 17, 13, 11, 10)\\n datetime.datetime(2012, 1, 17, 13, 11, 20)\\n datetime.datetime(2012, 1, 17, 13, 11, 30)\\n datetime.datetime(2012, 1, 17, 13, 11, 40)\\n datetime.datetime(2012, 1, 17, 13, 11, 50)\\n datetime.datetime(2012, 1, 17, 13, 12)\\n datetime.datetime(2012, 1, 17, 13, 12, 10)\\n datetime.datetime(2012, 1, 17, 13, 12, 20)\\n datetime.datetime(2012, 1, 17, 13, 12, 30)\\n datetime.datetime(2012, 1, 17, 13, 12, 40)\\n datetime.datetime(2012, 1, 17, 13, 12, 50)\\n datetime.datetime(2012, 1, 17, 13, 13)\\n datetime.datetime(2012, 1, 17, 13, 13, 10)\\n datetime.datetime(2012, 1, 17, 13, 13, 20)\\n datetime.datetime(2012, 1, 17, 13, 13, 30)\\n datetime.datetime(2012, 1, 17, 13, 13, 40)\\n datetime.datetime(2012, 1, 17, 13, 13, 50)\\n datetime.datetime(2012, 1, 17, 13, 14)\\n datetime.datetime(2012, 1, 17, 13, 14, 10)\\n datetime.datetime(2012, 1, 17, 13, 14, 20)\\n datetime.datetime(2012, 1, 17, 13, 14, 30)\\n datetime.datetime(2012, 1, 17, 13, 14, 40)\\n datetime.datetime(2012, 1, 17, 13, 14, 50)\\n datetime.datetime(2012, 1, 17, 13, 15)\\n datetime.datetime(2012, 1, 17, 13, 15, 10)\\n datetime.datetime(2012, 1, 17, 13, 15, 20)\\n datetime.datetime(2012, 1, 17, 13, 15, 30)\\n datetime.datetime(2012, 1, 17, 13, 15, 40)\\n datetime.datetime(2012, 1, 17, 13, 15, 50)\\n datetime.datetime(2012, 1, 17, 13, 16)\\n datetime.datetime(2012, 1, 17, 13, 16, 10)\\n datetime.datetime(2012, 1, 17, 13, 16, 20)\\n datetime.datetime(2012, 1, 17, 13, 16, 30)\\n datetime.datetime(2012, 1, 17, 13, 16, 40)\\n datetime.datetime(2012, 1, 17, 13, 16, 50)\\n datetime.datetime(2012, 1, 17, 13, 17)\\n datetime.datetime(2012, 1, 17, 13, 17, 10)\\n datetime.datetime(2012, 1, 17, 13, 17, 20)\\n datetime.datetime(2012, 1, 17, 13, 17, 30)\\n datetime.datetime(2012, 1, 17, 13, 17, 40)\\n datetime.datetime(2012, 1, 17, 13, 17, 50)\\n datetime.datetime(2012, 1, 17, 13, 18)\\n datetime.datetime(2012, 1, 17, 13, 18, 10)\\n datetime.datetime(2012, 1, 17, 13, 18, 20)\\n datetime.datetime(2012, 1, 17, 13, 18, 30)\\n datetime.datetime(2012, 1, 17, 13, 18, 40)\\n datetime.datetime(2012, 1, 17, 13, 18, 50)\\n datetime.datetime(2012, 1, 17, 13, 19)\\n datetime.datetime(2012, 1, 17, 13, 19, 10)\\n datetime.datetime(2012, 1, 17, 13, 19, 20)\\n datetime.datetime(2012, 1, 17, 13, 19, 30)\\n datetime.datetime(2012, 1, 17, 13, 19, 40)\\n datetime.datetime(2012, 1, 17, 13, 19, 50)\\n datetime.datetime(2012, 1, 17, 13, 20)\\n datetime.datetime(2012, 1, 17, 13, 20, 10)\\n datetime.datetime(2012, 1, 17, 13, 20, 20)\\n datetime.datetime(2012, 1, 17, 13, 20, 30)\\n datetime.datetime(2012, 1, 17, 13, 20, 40)\\n datetime.datetime(2012, 1, 17, 13, 20, 50)\\n datetime.datetime(2012, 1, 17, 13, 21)\\n datetime.datetime(2012, 1, 17, 13, 21, 10)\\n datetime.datetime(2012, 1, 17, 13, 21, 20)\\n datetime.datetime(2012, 1, 17, 13, 21, 30)\\n datetime.datetime(2012, 1, 17, 13, 21, 40)\\n datetime.datetime(2012, 1, 17, 13, 21, 50)\\n datetime.datetime(2012, 1, 17, 13, 22)\\n datetime.datetime(2012, 1, 17, 13, 22, 10)\\n datetime.datetime(2012, 1, 17, 13, 22, 20)\\n datetime.datetime(2012, 1, 17, 13, 22, 30)\\n datetime.datetime(2012, 1, 17, 13, 22, 40)\\n datetime.datetime(2012, 1, 17, 13, 22, 50)\\n datetime.datetime(2012, 1, 17, 13, 23)\\n datetime.datetime(2012, 1, 17, 13, 23, 10)\\n datetime.datetime(2012, 1, 17, 13, 23, 20)\\n datetime.datetime(2012, 1, 17, 13, 23, 30)\\n datetime.datetime(2012, 1, 17, 13, 23, 40)\\n datetime.datetime(2012, 1, 17, 13, 23, 50)\\n datetime.datetime(2012, 1, 17, 13, 24)\\n datetime.datetime(2012, 1, 17, 13, 24, 10)\\n datetime.datetime(2012, 1, 17, 13, 24, 20)\\n datetime.datetime(2012, 1, 17, 13, 24, 30)\\n datetime.datetime(2012, 1, 17, 13, 24, 40)\\n datetime.datetime(2012, 1, 17, 13, 24, 50)\\n datetime.datetime(2012, 1, 17, 13, 25)\\n datetime.datetime(2012, 1, 17, 13, 25, 10)\\n datetime.datetime(2012, 1, 17, 13, 25, 20)\\n datetime.datetime(2012, 1, 17, 13, 25, 30)\\n datetime.datetime(2012, 1, 17, 13, 25, 40)\\n datetime.datetime(2012, 1, 17, 13, 25, 50)\\n datetime.datetime(2012, 1, 17, 13, 26)\\n datetime.datetime(2012, 1, 17, 13, 26, 10)\\n datetime.datetime(2012, 1, 17, 13, 26, 20)\\n datetime.datetime(2012, 1, 17, 13, 26, 30)\\n datetime.datetime(2012, 1, 17, 13, 26, 40)\\n datetime.datetime(2012, 1, 17, 13, 26, 50)\\n datetime.datetime(2012, 1, 17, 13, 27)\\n datetime.datetime(2012, 1, 17, 13, 27, 10)\\n datetime.datetime(2012, 1, 17, 13, 27, 20)\\n datetime.datetime(2012, 1, 17, 13, 27, 30)\\n datetime.datetime(2012, 1, 17, 13, 27, 40)\\n datetime.datetime(2012, 1, 17, 13, 27, 50)\\n datetime.datetime(2012, 1, 17, 13, 28)\\n datetime.datetime(2012, 1, 17, 13, 28, 10)\\n datetime.datetime(2012, 1, 17, 13, 28, 20)\\n datetime.datetime(2012, 1, 17, 13, 28, 30)\\n datetime.datetime(2012, 1, 17, 13, 28, 40)\\n datetime.datetime(2012, 1, 17, 13, 28, 50)\\n datetime.datetime(2012, 1, 17, 13, 29)\\n datetime.datetime(2012, 1, 17, 13, 29, 10)\\n datetime.datetime(2012, 1, 17, 13, 29, 20)\\n datetime.datetime(2012, 1, 17, 13, 29, 30)\\n datetime.datetime(2012, 1, 17, 13, 29, 40)\\n datetime.datetime(2012, 1, 17, 13, 29, 50)\\n datetime.datetime(2012, 1, 17, 13, 30)\\n datetime.datetime(2012, 1, 17, 13, 30, 10)\\n datetime.datetime(2012, 1, 17, 13, 30, 20)\\n datetime.datetime(2012, 1, 17, 13, 30, 30)\\n datetime.datetime(2012, 1, 17, 13, 30, 40)\\n datetime.datetime(2012, 1, 17, 13, 30, 50)\\n datetime.datetime(2012, 1, 17, 13, 31)\\n datetime.datetime(2012, 1, 17, 13, 31, 10)\\n datetime.datetime(2012, 1, 17, 13, 31, 20)\\n datetime.datetime(2012, 1, 17, 13, 31, 30)\\n datetime.datetime(2012, 1, 17, 13, 31, 40)\\n datetime.datetime(2012, 1, 17, 13, 31, 50)\\n datetime.datetime(2012, 1, 17, 13, 32)\\n datetime.datetime(2012, 1, 17, 13, 32, 10)\\n datetime.datetime(2012, 1, 17, 13, 32, 20)\\n datetime.datetime(2012, 1, 17, 13, 32, 30)\\n datetime.datetime(2012, 1, 17, 13, 32, 40)\\n datetime.datetime(2012, 1, 17, 13, 32, 50)\\n datetime.datetime(2012, 1, 17, 13, 33)\\n datetime.datetime(2012, 1, 17, 13, 33, 10)\\n datetime.datetime(2012, 1, 17, 13, 33, 20)\\n datetime.datetime(2012, 1, 17, 13, 33, 30)\\n datetime.datetime(2012, 1, 17, 13, 33, 40)\\n datetime.datetime(2012, 1, 17, 13, 33, 50)\\n datetime.datetime(2012, 1, 17, 13, 34)\\n datetime.datetime(2012, 1, 17, 13, 34, 10)\\n datetime.datetime(2012, 1, 17, 13, 34, 20)\\n datetime.datetime(2012, 1, 17, 13, 34, 30)\\n datetime.datetime(2012, 1, 17, 13, 34, 40)\\n datetime.datetime(2012, 1, 17, 13, 34, 50)\\n datetime.datetime(2012, 1, 17, 13, 35)\\n datetime.datetime(2012, 1, 17, 13, 35, 10)\\n datetime.datetime(2012, 1, 17, 13, 35, 20)\\n datetime.datetime(2012, 1, 17, 13, 35, 30)\\n datetime.datetime(2012, 1, 17, 13, 35, 40)\\n datetime.datetime(2012, 1, 17, 13, 35, 50)\\n datetime.datetime(2012, 1, 17, 13, 36)\\n datetime.datetime(2012, 1, 17, 13, 36, 10)\\n datetime.datetime(2012, 1, 17, 13, 36, 20)\\n datetime.datetime(2012, 1, 17, 13, 36, 30)\\n datetime.datetime(2012, 1, 17, 13, 36, 40)\\n datetime.datetime(2012, 1, 17, 13, 36, 50)\\n datetime.datetime(2012, 1, 17, 13, 37)\\n datetime.datetime(2012, 1, 17, 13, 37, 10)\\n datetime.datetime(2012, 1, 17, 13, 37, 20)\\n datetime.datetime(2012, 1, 17, 13, 37, 30)\\n datetime.datetime(2012, 1, 17, 13, 37, 40)\\n datetime.datetime(2012, 1, 17, 13, 37, 50)\\n datetime.datetime(2012, 1, 17, 13, 38)\\n datetime.datetime(2012, 1, 17, 13, 38, 10)\\n datetime.datetime(2012, 1, 17, 13, 38, 20)\\n datetime.datetime(2012, 1, 17, 13, 38, 30)\\n datetime.datetime(2012, 1, 17, 13, 38, 40)\\n datetime.datetime(2012, 1, 17, 13, 38, 50)\\n datetime.datetime(2012, 1, 17, 13, 39)\\n datetime.datetime(2012, 1, 17, 13, 39, 10)\\n datetime.datetime(2012, 1, 17, 13, 39, 20)\\n datetime.datetime(2012, 1, 17, 13, 39, 30)\\n datetime.datetime(2012, 1, 17, 13, 39, 40)\\n datetime.datetime(2012, 1, 17, 13, 39, 50)\\n datetime.datetime(2012, 1, 17, 13, 40)\\n datetime.datetime(2012, 1, 17, 13, 40, 10)\\n datetime.datetime(2012, 1, 17, 13, 40, 20)\\n datetime.datetime(2012, 1, 17, 13, 40, 30)\\n datetime.datetime(2012, 1, 17, 13, 40, 40)\\n datetime.datetime(2012, 1, 17, 13, 40, 50)\\n datetime.datetime(2012, 1, 17, 13, 41)\\n datetime.datetime(2012, 1, 17, 13, 41, 10)\\n datetime.datetime(2012, 1, 17, 13, 41, 20)\\n datetime.datetime(2012, 1, 17, 13, 41, 30)\\n datetime.datetime(2012, 1, 17, 13, 41, 40)\\n datetime.datetime(2012, 1, 17, 13, 41, 50)\\n datetime.datetime(2012, 1, 17, 13, 42)\\n datetime.datetime(2012, 1, 17, 13, 42, 10)\\n datetime.datetime(2012, 1, 17, 13, 42, 20)\\n datetime.datetime(2012, 1, 17, 13, 42, 30)\\n datetime.datetime(2012, 1, 17, 13, 42, 40)\\n datetime.datetime(2012, 1, 17, 13, 42, 50)\\n datetime.datetime(2012, 1, 17, 13, 43)\\n datetime.datetime(2012, 1, 17, 13, 43, 10)\\n datetime.datetime(2012, 1, 17, 13, 43, 20)\\n datetime.datetime(2012, 1, 17, 13, 43, 30)\\n datetime.datetime(2012, 1, 17, 13, 43, 40)\\n datetime.datetime(2012, 1, 17, 13, 43, 50)\\n datetime.datetime(2012, 1, 17, 13, 44)\\n datetime.datetime(2012, 1, 17, 13, 44, 10)\\n datetime.datetime(2012, 1, 17, 13, 44, 20)\\n datetime.datetime(2012, 1, 17, 13, 44, 30)\\n datetime.datetime(2012, 1, 17, 13, 44, 40)\\n datetime.datetime(2012, 1, 17, 13, 44, 50)\\n datetime.datetime(2012, 1, 17, 13, 45)\\n datetime.datetime(2012, 1, 17, 13, 45, 10)\\n datetime.datetime(2012, 1, 17, 13, 45, 20)\\n datetime.datetime(2012, 1, 17, 13, 45, 30)\\n datetime.datetime(2012, 1, 17, 13, 45, 40)\\n datetime.datetime(2012, 1, 17, 13, 45, 50)\\n datetime.datetime(2012, 1, 17, 13, 46)\\n datetime.datetime(2012, 1, 17, 13, 46, 10)\\n datetime.datetime(2012, 1, 17, 13, 46, 20)\\n datetime.datetime(2012, 1, 17, 13, 46, 30)\\n datetime.datetime(2012, 1, 17, 13, 46, 40)\\n datetime.datetime(2012, 1, 17, 13, 46, 50)\\n datetime.datetime(2012, 1, 17, 13, 47)\\n datetime.datetime(2012, 1, 17, 13, 47, 10)\\n datetime.datetime(2012, 1, 17, 13, 47, 20)\\n datetime.datetime(2012, 1, 17, 13, 47, 30)\\n datetime.datetime(2012, 1, 17, 13, 47, 40)\\n datetime.datetime(2012, 1, 17, 13, 47, 50)\\n datetime.datetime(2012, 1, 17, 13, 48)\\n datetime.datetime(2012, 1, 17, 13, 48, 10)\\n datetime.datetime(2012, 1, 17, 13, 48, 20)\\n datetime.datetime(2012, 1, 17, 13, 48, 30)\\n datetime.datetime(2012, 1, 17, 13, 48, 40)\\n datetime.datetime(2012, 1, 17, 13, 48, 50)\\n datetime.datetime(2012, 1, 17, 13, 49)\\n datetime.datetime(2012, 1, 17, 13, 49, 10)\\n datetime.datetime(2012, 1, 17, 13, 49, 20)\\n datetime.datetime(2012, 1, 17, 13, 49, 30)\\n datetime.datetime(2012, 1, 17, 13, 49, 40)\\n datetime.datetime(2012, 1, 17, 13, 49, 50)\\n datetime.datetime(2012, 1, 17, 13, 50)\\n datetime.datetime(2012, 1, 17, 13, 50, 10)\\n datetime.datetime(2012, 1, 17, 13, 50, 20)\\n datetime.datetime(2012, 1, 17, 13, 50, 30)\\n datetime.datetime(2012, 1, 17, 13, 50, 40)\\n datetime.datetime(2012, 1, 17, 13, 50, 50)\\n datetime.datetime(2012, 1, 17, 13, 51)\\n datetime.datetime(2012, 1, 17, 13, 51, 10)\\n datetime.datetime(2012, 1, 17, 13, 51, 20)\\n datetime.datetime(2012, 1, 17, 13, 51, 30)\\n datetime.datetime(2012, 1, 17, 13, 51, 40)\\n datetime.datetime(2012, 1, 17, 13, 51, 50)\\n datetime.datetime(2012, 1, 17, 13, 52)\\n datetime.datetime(2012, 1, 17, 13, 52, 10)\\n datetime.datetime(2012, 1, 17, 13, 52, 20)\\n datetime.datetime(2012, 1, 17, 13, 52, 30)\\n datetime.datetime(2012, 1, 17, 13, 52, 40)\\n datetime.datetime(2012, 1, 17, 13, 52, 50)\\n datetime.datetime(2012, 1, 17, 13, 53)\\n datetime.datetime(2012, 1, 17, 13, 53, 10)\\n datetime.datetime(2012, 1, 17, 13, 53, 20)\\n datetime.datetime(2012, 1, 17, 13, 53, 30)\\n datetime.datetime(2012, 1, 17, 13, 53, 40)\\n datetime.datetime(2012, 1, 17, 13, 53, 50)\\n datetime.datetime(2012, 1, 17, 13, 54)\\n datetime.datetime(2012, 1, 17, 13, 54, 10)\\n datetime.datetime(2012, 1, 17, 13, 54, 20)\\n datetime.datetime(2012, 1, 17, 13, 54, 30)\\n datetime.datetime(2012, 1, 17, 13, 54, 40)\\n datetime.datetime(2012, 1, 17, 13, 54, 50)\\n datetime.datetime(2012, 1, 17, 13, 55)\\n datetime.datetime(2012, 1, 17, 13, 55, 10)\\n datetime.datetime(2012, 1, 17, 13, 55, 20)\\n datetime.datetime(2012, 1, 17, 13, 55, 30)\\n datetime.datetime(2012, 1, 17, 13, 55, 40)\\n datetime.datetime(2012, 1, 17, 13, 55, 50)\\n datetime.datetime(2012, 1, 17, 13, 56)\\n datetime.datetime(2012, 1, 17, 13, 56, 10)\\n datetime.datetime(2012, 1, 17, 13, 56, 20)\\n datetime.datetime(2012, 1, 17, 13, 56, 30)\\n datetime.datetime(2012, 1, 17, 13, 56, 40)\\n datetime.datetime(2012, 1, 17, 13, 56, 50)\\n datetime.datetime(2012, 1, 17, 13, 57)\\n datetime.datetime(2012, 1, 17, 13, 57, 10)\\n datetime.datetime(2012, 1, 17, 13, 57, 20)\\n datetime.datetime(2012, 1, 17, 13, 57, 30)\\n datetime.datetime(2012, 1, 17, 13, 57, 40)\\n datetime.datetime(2012, 1, 17, 13, 57, 50)\\n datetime.datetime(2012, 1, 17, 13, 58)\\n datetime.datetime(2012, 1, 17, 13, 58, 10)\\n datetime.datetime(2012, 1, 17, 13, 58, 20)\\n datetime.datetime(2012, 1, 17, 13, 58, 30)\\n datetime.datetime(2012, 1, 17, 13, 58, 40)\\n datetime.datetime(2012, 1, 17, 13, 58, 50)\\n datetime.datetime(2012, 1, 17, 13, 59)\\n datetime.datetime(2012, 1, 17, 13, 59, 10)\\n datetime.datetime(2012, 1, 17, 13, 59, 20)\\n datetime.datetime(2012, 1, 17, 13, 59, 30)\\n datetime.datetime(2012, 1, 17, 13, 59, 40)\\n datetime.datetime(2012, 1, 17, 13, 59, 50)] not found in axis'"
     ]
    }
   ],
   "source": [
    "t1 = np.arange(datetime(2012,1,17,12,30,0), datetime(2012,1,17,14,0,0), timedelta(seconds=10)).astype(datetime)\n",
    "DC_1 = DC_1.drop(t1)\n",
    "DC_1 = DC_1.drop([datetime(2012,2,12,19,52,10)])\n",
    "DC_1 = DC_1.drop([datetime(2012,2,12,21,4,20)])"
   ]
  },
  {
   "cell_type": "code",
   "execution_count": 182,
   "metadata": {},
   "outputs": [],
   "source": [
    "dc2 = DC_2.loc[datetime(2012,2,12,0,20,0):datetime(2012,2,12,0,25,0)]"
   ]
  },
  {
   "cell_type": "code",
   "execution_count": 183,
   "metadata": {},
   "outputs": [
    {
     "data": {
      "image/png": "[encoded data removed]",
      "text/plain": [
       "<Figure size 576x360 with 2 Axes>"
      ]
     },
     "metadata": {
      "needs_background": "light"
     },
     "output_type": "display_data"
    }
   ],
   "source": [
    "fig, (ax1, ax2) = plt.subplots(nrows=2, figsize=(8, 5), constrained_layout=True, sharex=True)\n",
    "\n",
    "#Formato fecha\n",
    "locator = mdates.AutoDateLocator()\n",
    "formatter = mdates.ConciseDateFormatter(locator)\n",
    "\n",
    "ax1.set_ylabel(r\"Temperature \",\n",
    "          fontsize=16)\n",
    "\n",
    "ax1.plot(dc2.index, dc2[\"Temperature\"].values, c='b', alpha=0.8, linewidth=0.8, label='top-bottom')\n",
    "\n",
    "ax1.xaxis.set_tick_params(labelsize=16)\n",
    "ax1.yaxis.set_tick_params(labelsize=16)\n",
    "ax1.grid(alpha=0.5)\n",
    "\n",
    "ax2.set_ylabel(r\"Salinity \",\n",
    "          fontsize=16)\n",
    "\n",
    "ax2.plot(dc2.index, dc2[\"Salinity\"].values, c='b', alpha=0.8, linewidth=0.8, label='top-bottom')\n",
    "\n",
    "ax2.xaxis.set_tick_params(labelsize=16)\n",
    "ax2.yaxis.set_tick_params(labelsize=16)\n",
    "ax2.grid(alpha=0.5)\n",
    "\n",
    "# ax2.set_xlim(datetime(2012,1,17,14,0,0), datetime(2012,1,21,12,0,0))\n",
    "\n",
    "\n",
    "\n",
    "# Ajustar formato fecha\n",
    "ax1.xaxis.set_major_locator(locator)\n",
    "ax1.xaxis.set_major_formatter(formatter)"
   ]
  },
  {
   "cell_type": "code",
   "execution_count": 189,
   "metadata": {},
   "outputs": [
    {
     "data": {
      "text/plain": [
       "Datetime\n",
       "2012-02-12 00:20:00    30.615250\n",
       "2012-02-12 00:20:10    30.609214\n",
       "2012-02-12 00:20:20    30.606025\n",
       "2012-02-12 00:20:30    30.602569\n",
       "2012-02-12 00:20:40    30.587815\n",
       "2012-02-12 00:20:50    30.576722\n",
       "2012-02-12 00:21:00    30.591116\n",
       "2012-02-12 00:21:10    30.592806\n",
       "2012-02-12 00:21:20    30.600231\n",
       "2012-02-12 00:21:30    30.599832\n",
       "2012-02-12 00:21:40    30.605155\n",
       "2012-02-12 00:21:50    30.615846\n",
       "2012-02-12 00:22:00    30.618652\n",
       "2012-02-12 00:22:10    30.613920\n",
       "2012-02-12 00:22:20    30.603171\n",
       "2012-02-12 00:22:30    30.448072\n",
       "2012-02-12 00:22:40    30.361597\n",
       "2012-02-12 00:22:50    30.379275\n",
       "2012-02-12 00:23:00    30.185441\n",
       "2012-02-12 00:23:10    30.178995\n",
       "2012-02-12 00:23:20    30.198829\n",
       "2012-02-12 00:23:30    27.565290\n",
       "2012-02-12 00:23:40    27.671395\n",
       "2012-02-12 00:23:50    28.895020\n",
       "2012-02-12 00:24:00    30.605519\n",
       "2012-02-12 00:24:10    30.424987\n",
       "2012-02-12 00:24:20    30.449514\n",
       "2012-02-12 00:24:30    30.130954\n",
       "2012-02-12 00:24:40    30.604322\n",
       "2012-02-12 00:24:50    30.589289\n",
       "2012-02-12 00:25:00    29.991526\n",
       "Name: Salinity, dtype: float64"
      ]
     },
     "execution_count": 189,
     "metadata": {},
     "output_type": "execute_result"
    }
   ],
   "source": [
    "dc2[\"Salinity\"]"
   ]
  },
  {
   "cell_type": "code",
   "execution_count": 161,
   "metadata": {},
   "outputs": [
    {
     "data": {
      "text/plain": [
       "0.5975000000000001"
      ]
     },
     "execution_count": 161,
     "metadata": {},
     "output_type": "execute_result"
    }
   ],
   "source": [
    "30.589-29.9915"
   ]
  },
  {
   "cell_type": "code",
   "execution_count": 157,
   "metadata": {},
   "outputs": [
    {
     "data": {
      "text/plain": [
       "Datetime\n",
       "2012-02-12 00:20:00    30.615250\n",
       "2012-02-12 00:20:10    30.609214\n",
       "2012-02-12 00:20:20    30.606025\n",
       "2012-02-12 00:20:40    30.587815\n",
       "2012-02-12 00:20:50    30.576722\n",
       "2012-02-12 00:21:00    30.591116\n",
       "2012-02-12 00:21:10    30.592806\n",
       "2012-02-12 00:21:20    30.600231\n",
       "2012-02-12 00:21:30    30.599832\n",
       "2012-02-12 00:21:40    30.605155\n",
       "2012-02-12 00:21:50    30.615846\n",
       "2012-02-12 00:22:00    30.618652\n",
       "2012-02-12 00:22:10    30.613920\n",
       "2012-02-12 00:22:20    30.603171\n",
       "2012-02-12 00:22:30    30.448072\n",
       "2012-02-12 00:22:40    30.361597\n",
       "2012-02-12 00:22:50    30.379275\n",
       "2012-02-12 00:23:00    30.185441\n",
       "2012-02-12 00:23:10    30.178995\n",
       "2012-02-12 00:23:20    30.198829\n",
       "2012-02-12 00:23:30    27.565290\n",
       "2012-02-12 00:23:40    27.671395\n",
       "2012-02-12 00:23:50    28.895020\n",
       "2012-02-12 00:24:00    30.605519\n",
       "2012-02-12 00:24:10    30.424987\n",
       "2012-02-12 00:24:20    30.449514\n",
       "2012-02-12 00:24:30    30.130954\n",
       "2012-02-12 00:24:40    30.604322\n",
       "2012-02-12 00:24:50    30.589289\n",
       "2012-02-12 00:25:00    29.991526\n",
       "Name: Salinity, dtype: float64"
      ]
     },
     "execution_count": 157,
     "metadata": {},
     "output_type": "execute_result"
    }
   ],
   "source": [
    "\n",
    "dc2[\"Salinity\"].drop(dc2[\"Salinity\"].index[3])"
   ]
  },
  {
   "cell_type": "code",
   "execution_count": 112,
   "metadata": {},
   "outputs": [],
   "source": [
    "t1 = np.arange(datetime(2012,2,11,1,42,40), datetime(2012,2,11,1,46,50), timedelta(seconds=10)).astype(datetime)\n",
    "t2 = np.arange(datetime(2012,2,11,1,53,30), datetime(2012,2,11,1,56,00), timedelta(seconds=10)).astype(datetime)\n",
    "DC_2 = DC_2.drop(t1)\n",
    "DC_2 = DC_2.drop(t2)\n",
    "DC_2 = DC_2.drop([datetime(2012,2,11,2,30,30), datetime(2012,2,11,2,55,0), datetime(2012,2,11,23,54,40), datetime(2012,2,11,23,57,0), datetime(2012,2,12,0,23,30), datetime(2012,2,12,0,23,40), datetime(2012,2,12,0,23,50)])\n",
    "DC_2 = DC_2.drop([datetime(2012,2,11,2,55,0)])\n",
    "DC_2 = DC_2.drop([datetime(2012,2,11,23,54,40)])\n",
    "DC_2 = DC_2.drop([datetime(2012,2,11,23,57,0)])\n",
    "\n"
   ]
  },
  {
   "cell_type": "code",
   "execution_count": 197,
   "metadata": {},
   "outputs": [],
   "source": [
    "## Esta funcion considera que el ultimo número es un valor correcto \n",
    "## Verificar antes que el ultimo valor esté ok\n",
    "def del_err(ds):\n",
    "    for i in range(len(ds)-1, 0, -1):\n",
    "        while abs(ds[i] - ds[i-1])>1.5:\n",
    "            ds = ds.drop(ds.index[i])           \n",
    "    return ds  "
   ]
  },
  {
   "cell_type": "code",
   "execution_count": 199,
   "metadata": {},
   "outputs": [
    {
     "ename": "KeyboardInterrupt",
     "evalue": "",
     "output_type": "error",
     "traceback": [
      "\u001b[1;31m---------------------------------------------------------------------------\u001b[0m",
      "\u001b[1;31mKeyboardInterrupt\u001b[0m                         Traceback (most recent call last)",
      "\u001b[1;32m<ipython-input-199-4e2d201ba601>\u001b[0m in \u001b[0;36m<module>\u001b[1;34m\u001b[0m\n\u001b[1;32m----> 1\u001b[1;33m \u001b[0mtest\u001b[0m \u001b[1;33m=\u001b[0m \u001b[0mdel_err\u001b[0m\u001b[1;33m(\u001b[0m\u001b[0mDC_2\u001b[0m\u001b[1;33m[\u001b[0m\u001b[1;34m\"Salinity\"\u001b[0m\u001b[1;33m]\u001b[0m\u001b[1;33m)\u001b[0m\u001b[1;33m\u001b[0m\u001b[1;33m\u001b[0m\u001b[0m\n\u001b[0m",
      "\u001b[1;32m<ipython-input-197-e20ba1cc6ec0>\u001b[0m in \u001b[0;36mdel_err\u001b[1;34m(ds)\u001b[0m\n\u001b[0;32m      4\u001b[0m     \u001b[1;32mfor\u001b[0m \u001b[0mi\u001b[0m \u001b[1;32min\u001b[0m \u001b[0mrange\u001b[0m\u001b[1;33m(\u001b[0m\u001b[0mlen\u001b[0m\u001b[1;33m(\u001b[0m\u001b[0mds\u001b[0m\u001b[1;33m)\u001b[0m\u001b[1;33m-\u001b[0m\u001b[1;36m1\u001b[0m\u001b[1;33m,\u001b[0m \u001b[1;36m0\u001b[0m\u001b[1;33m,\u001b[0m \u001b[1;33m-\u001b[0m\u001b[1;36m1\u001b[0m\u001b[1;33m)\u001b[0m\u001b[1;33m:\u001b[0m\u001b[1;33m\u001b[0m\u001b[1;33m\u001b[0m\u001b[0m\n\u001b[0;32m      5\u001b[0m         \u001b[1;32mwhile\u001b[0m \u001b[0mabs\u001b[0m\u001b[1;33m(\u001b[0m\u001b[0mds\u001b[0m\u001b[1;33m[\u001b[0m\u001b[0mi\u001b[0m\u001b[1;33m]\u001b[0m \u001b[1;33m-\u001b[0m \u001b[0mds\u001b[0m\u001b[1;33m[\u001b[0m\u001b[0mi\u001b[0m\u001b[1;33m-\u001b[0m\u001b[1;36m1\u001b[0m\u001b[1;33m]\u001b[0m\u001b[1;33m)\u001b[0m\u001b[1;33m>\u001b[0m\u001b[1;36m1.5\u001b[0m\u001b[1;33m:\u001b[0m\u001b[1;33m\u001b[0m\u001b[1;33m\u001b[0m\u001b[0m\n\u001b[1;32m----> 6\u001b[1;33m             \u001b[0mds\u001b[0m \u001b[1;33m=\u001b[0m \u001b[0mds\u001b[0m\u001b[1;33m.\u001b[0m\u001b[0mdrop\u001b[0m\u001b[1;33m(\u001b[0m\u001b[0mds\u001b[0m\u001b[1;33m.\u001b[0m\u001b[0mindex\u001b[0m\u001b[1;33m[\u001b[0m\u001b[0mi\u001b[0m\u001b[1;33m]\u001b[0m\u001b[1;33m)\u001b[0m\u001b[1;33m\u001b[0m\u001b[1;33m\u001b[0m\u001b[0m\n\u001b[0m\u001b[0;32m      7\u001b[0m     \u001b[1;32mreturn\u001b[0m \u001b[0mds\u001b[0m\u001b[1;33m\u001b[0m\u001b[1;33m\u001b[0m\u001b[0m\n",
      "\u001b[1;32m~\\miniconda3\\envs\\pesc-prj\\lib\\site-packages\\pandas\\core\\series.py\u001b[0m in \u001b[0;36mdrop\u001b[1;34m(self, labels, axis, index, columns, level, inplace, errors)\u001b[0m\n\u001b[0;32m   4441\u001b[0m         \u001b[0mdtype\u001b[0m\u001b[1;33m:\u001b[0m \u001b[0mfloat64\u001b[0m\u001b[1;33m\u001b[0m\u001b[1;33m\u001b[0m\u001b[0m\n\u001b[0;32m   4442\u001b[0m         \"\"\"\n\u001b[1;32m-> 4443\u001b[1;33m         return super().drop(\n\u001b[0m\u001b[0;32m   4444\u001b[0m             \u001b[0mlabels\u001b[0m\u001b[1;33m=\u001b[0m\u001b[0mlabels\u001b[0m\u001b[1;33m,\u001b[0m\u001b[1;33m\u001b[0m\u001b[1;33m\u001b[0m\u001b[0m\n\u001b[0;32m   4445\u001b[0m             \u001b[0maxis\u001b[0m\u001b[1;33m=\u001b[0m\u001b[0maxis\u001b[0m\u001b[1;33m,\u001b[0m\u001b[1;33m\u001b[0m\u001b[1;33m\u001b[0m\u001b[0m\n",
      "\u001b[1;32m~\\miniconda3\\envs\\pesc-prj\\lib\\site-packages\\pandas\\core\\generic.py\u001b[0m in \u001b[0;36mdrop\u001b[1;34m(self, labels, axis, index, columns, level, inplace, errors)\u001b[0m\n\u001b[0;32m   4151\u001b[0m         \u001b[1;32mfor\u001b[0m \u001b[0maxis\u001b[0m\u001b[1;33m,\u001b[0m \u001b[0mlabels\u001b[0m \u001b[1;32min\u001b[0m \u001b[0maxes\u001b[0m\u001b[1;33m.\u001b[0m\u001b[0mitems\u001b[0m\u001b[1;33m(\u001b[0m\u001b[1;33m)\u001b[0m\u001b[1;33m:\u001b[0m\u001b[1;33m\u001b[0m\u001b[1;33m\u001b[0m\u001b[0m\n\u001b[0;32m   4152\u001b[0m             \u001b[1;32mif\u001b[0m \u001b[0mlabels\u001b[0m \u001b[1;32mis\u001b[0m \u001b[1;32mnot\u001b[0m \u001b[1;32mNone\u001b[0m\u001b[1;33m:\u001b[0m\u001b[1;33m\u001b[0m\u001b[1;33m\u001b[0m\u001b[0m\n\u001b[1;32m-> 4153\u001b[1;33m                 \u001b[0mobj\u001b[0m \u001b[1;33m=\u001b[0m \u001b[0mobj\u001b[0m\u001b[1;33m.\u001b[0m\u001b[0m_drop_axis\u001b[0m\u001b[1;33m(\u001b[0m\u001b[0mlabels\u001b[0m\u001b[1;33m,\u001b[0m \u001b[0maxis\u001b[0m\u001b[1;33m,\u001b[0m \u001b[0mlevel\u001b[0m\u001b[1;33m=\u001b[0m\u001b[0mlevel\u001b[0m\u001b[1;33m,\u001b[0m \u001b[0merrors\u001b[0m\u001b[1;33m=\u001b[0m\u001b[0merrors\u001b[0m\u001b[1;33m)\u001b[0m\u001b[1;33m\u001b[0m\u001b[1;33m\u001b[0m\u001b[0m\n\u001b[0m\u001b[0;32m   4154\u001b[0m \u001b[1;33m\u001b[0m\u001b[0m\n\u001b[0;32m   4155\u001b[0m         \u001b[1;32mif\u001b[0m \u001b[0minplace\u001b[0m\u001b[1;33m:\u001b[0m\u001b[1;33m\u001b[0m\u001b[1;33m\u001b[0m\u001b[0m\n",
      "\u001b[1;32m~\\miniconda3\\envs\\pesc-prj\\lib\\site-packages\\pandas\\core\\generic.py\u001b[0m in \u001b[0;36m_drop_axis\u001b[1;34m(self, labels, axis, level, errors)\u001b[0m\n\u001b[0;32m   4187\u001b[0m             \u001b[1;32melse\u001b[0m\u001b[1;33m:\u001b[0m\u001b[1;33m\u001b[0m\u001b[1;33m\u001b[0m\u001b[0m\n\u001b[0;32m   4188\u001b[0m                 \u001b[0mnew_axis\u001b[0m \u001b[1;33m=\u001b[0m \u001b[0maxis\u001b[0m\u001b[1;33m.\u001b[0m\u001b[0mdrop\u001b[0m\u001b[1;33m(\u001b[0m\u001b[0mlabels\u001b[0m\u001b[1;33m,\u001b[0m \u001b[0merrors\u001b[0m\u001b[1;33m=\u001b[0m\u001b[0merrors\u001b[0m\u001b[1;33m)\u001b[0m\u001b[1;33m\u001b[0m\u001b[1;33m\u001b[0m\u001b[0m\n\u001b[1;32m-> 4189\u001b[1;33m             \u001b[0mresult\u001b[0m \u001b[1;33m=\u001b[0m \u001b[0mself\u001b[0m\u001b[1;33m.\u001b[0m\u001b[0mreindex\u001b[0m\u001b[1;33m(\u001b[0m\u001b[1;33m**\u001b[0m\u001b[1;33m{\u001b[0m\u001b[0maxis_name\u001b[0m\u001b[1;33m:\u001b[0m \u001b[0mnew_axis\u001b[0m\u001b[1;33m}\u001b[0m\u001b[1;33m)\u001b[0m\u001b[1;33m\u001b[0m\u001b[1;33m\u001b[0m\u001b[0m\n\u001b[0m\u001b[0;32m   4190\u001b[0m \u001b[1;33m\u001b[0m\u001b[0m\n\u001b[0;32m   4191\u001b[0m         \u001b[1;31m# Case for non-unique axis\u001b[0m\u001b[1;33m\u001b[0m\u001b[1;33m\u001b[0m\u001b[1;33m\u001b[0m\u001b[0m\n",
      "\u001b[1;32m~\\miniconda3\\envs\\pesc-prj\\lib\\site-packages\\pandas\\core\\series.py\u001b[0m in \u001b[0;36mreindex\u001b[1;34m(self, index, **kwargs)\u001b[0m\n\u001b[0;32m   4343\u001b[0m     )\n\u001b[0;32m   4344\u001b[0m     \u001b[1;32mdef\u001b[0m \u001b[0mreindex\u001b[0m\u001b[1;33m(\u001b[0m\u001b[0mself\u001b[0m\u001b[1;33m,\u001b[0m \u001b[0mindex\u001b[0m\u001b[1;33m=\u001b[0m\u001b[1;32mNone\u001b[0m\u001b[1;33m,\u001b[0m \u001b[1;33m**\u001b[0m\u001b[0mkwargs\u001b[0m\u001b[1;33m)\u001b[0m\u001b[1;33m:\u001b[0m\u001b[1;33m\u001b[0m\u001b[1;33m\u001b[0m\u001b[0m\n\u001b[1;32m-> 4345\u001b[1;33m         \u001b[1;32mreturn\u001b[0m \u001b[0msuper\u001b[0m\u001b[1;33m(\u001b[0m\u001b[1;33m)\u001b[0m\u001b[1;33m.\u001b[0m\u001b[0mreindex\u001b[0m\u001b[1;33m(\u001b[0m\u001b[0mindex\u001b[0m\u001b[1;33m=\u001b[0m\u001b[0mindex\u001b[0m\u001b[1;33m,\u001b[0m \u001b[1;33m**\u001b[0m\u001b[0mkwargs\u001b[0m\u001b[1;33m)\u001b[0m\u001b[1;33m\u001b[0m\u001b[1;33m\u001b[0m\u001b[0m\n\u001b[0m\u001b[0;32m   4346\u001b[0m \u001b[1;33m\u001b[0m\u001b[0m\n\u001b[0;32m   4347\u001b[0m     def drop(\n",
      "\u001b[1;32m~\\miniconda3\\envs\\pesc-prj\\lib\\site-packages\\pandas\\core\\generic.py\u001b[0m in \u001b[0;36mreindex\u001b[1;34m(self, *args, **kwargs)\u001b[0m\n\u001b[0;32m   4809\u001b[0m \u001b[1;33m\u001b[0m\u001b[0m\n\u001b[0;32m   4810\u001b[0m         \u001b[1;31m# perform the reindex on the axes\u001b[0m\u001b[1;33m\u001b[0m\u001b[1;33m\u001b[0m\u001b[1;33m\u001b[0m\u001b[0m\n\u001b[1;32m-> 4811\u001b[1;33m         return self._reindex_axes(\n\u001b[0m\u001b[0;32m   4812\u001b[0m             \u001b[0maxes\u001b[0m\u001b[1;33m,\u001b[0m \u001b[0mlevel\u001b[0m\u001b[1;33m,\u001b[0m \u001b[0mlimit\u001b[0m\u001b[1;33m,\u001b[0m \u001b[0mtolerance\u001b[0m\u001b[1;33m,\u001b[0m \u001b[0mmethod\u001b[0m\u001b[1;33m,\u001b[0m \u001b[0mfill_value\u001b[0m\u001b[1;33m,\u001b[0m \u001b[0mcopy\u001b[0m\u001b[1;33m\u001b[0m\u001b[1;33m\u001b[0m\u001b[0m\n\u001b[0;32m   4813\u001b[0m         ).__finalize__(self, method=\"reindex\")\n",
      "\u001b[1;32m~\\miniconda3\\envs\\pesc-prj\\lib\\site-packages\\pandas\\core\\generic.py\u001b[0m in \u001b[0;36m_reindex_axes\u001b[1;34m(self, axes, level, limit, tolerance, method, fill_value, copy)\u001b[0m\n\u001b[0;32m   4825\u001b[0m \u001b[1;33m\u001b[0m\u001b[0m\n\u001b[0;32m   4826\u001b[0m             \u001b[0max\u001b[0m \u001b[1;33m=\u001b[0m \u001b[0mself\u001b[0m\u001b[1;33m.\u001b[0m\u001b[0m_get_axis\u001b[0m\u001b[1;33m(\u001b[0m\u001b[0ma\u001b[0m\u001b[1;33m)\u001b[0m\u001b[1;33m\u001b[0m\u001b[1;33m\u001b[0m\u001b[0m\n\u001b[1;32m-> 4827\u001b[1;33m             new_index, indexer = ax.reindex(\n\u001b[0m\u001b[0;32m   4828\u001b[0m                 \u001b[0mlabels\u001b[0m\u001b[1;33m,\u001b[0m \u001b[0mlevel\u001b[0m\u001b[1;33m=\u001b[0m\u001b[0mlevel\u001b[0m\u001b[1;33m,\u001b[0m \u001b[0mlimit\u001b[0m\u001b[1;33m=\u001b[0m\u001b[0mlimit\u001b[0m\u001b[1;33m,\u001b[0m \u001b[0mtolerance\u001b[0m\u001b[1;33m=\u001b[0m\u001b[0mtolerance\u001b[0m\u001b[1;33m,\u001b[0m \u001b[0mmethod\u001b[0m\u001b[1;33m=\u001b[0m\u001b[0mmethod\u001b[0m\u001b[1;33m\u001b[0m\u001b[1;33m\u001b[0m\u001b[0m\n\u001b[0;32m   4829\u001b[0m             )\n",
      "\u001b[1;32m~\\miniconda3\\envs\\pesc-prj\\lib\\site-packages\\pandas\\core\\indexes\\base.py\u001b[0m in \u001b[0;36mreindex\u001b[1;34m(self, target, method, level, limit, tolerance)\u001b[0m\n\u001b[0;32m   3514\u001b[0m             \u001b[1;32melse\u001b[0m\u001b[1;33m:\u001b[0m\u001b[1;33m\u001b[0m\u001b[1;33m\u001b[0m\u001b[0m\n\u001b[0;32m   3515\u001b[0m                 \u001b[1;32mif\u001b[0m \u001b[0mself\u001b[0m\u001b[1;33m.\u001b[0m\u001b[0m_index_as_unique\u001b[0m\u001b[1;33m:\u001b[0m\u001b[1;33m\u001b[0m\u001b[1;33m\u001b[0m\u001b[0m\n\u001b[1;32m-> 3516\u001b[1;33m                     indexer = self.get_indexer(\n\u001b[0m\u001b[0;32m   3517\u001b[0m                         \u001b[0mtarget\u001b[0m\u001b[1;33m,\u001b[0m \u001b[0mmethod\u001b[0m\u001b[1;33m=\u001b[0m\u001b[0mmethod\u001b[0m\u001b[1;33m,\u001b[0m \u001b[0mlimit\u001b[0m\u001b[1;33m=\u001b[0m\u001b[0mlimit\u001b[0m\u001b[1;33m,\u001b[0m \u001b[0mtolerance\u001b[0m\u001b[1;33m=\u001b[0m\u001b[0mtolerance\u001b[0m\u001b[1;33m\u001b[0m\u001b[1;33m\u001b[0m\u001b[0m\n\u001b[0;32m   3518\u001b[0m                     )\n",
      "\u001b[1;32m~\\miniconda3\\envs\\pesc-prj\\lib\\site-packages\\pandas\\core\\indexes\\base.py\u001b[0m in \u001b[0;36mget_indexer\u001b[1;34m(self, target, method, limit, tolerance)\u001b[0m\n\u001b[0;32m   3189\u001b[0m                 )\n\u001b[0;32m   3190\u001b[0m \u001b[1;33m\u001b[0m\u001b[0m\n\u001b[1;32m-> 3191\u001b[1;33m             \u001b[0mindexer\u001b[0m \u001b[1;33m=\u001b[0m \u001b[0mself\u001b[0m\u001b[1;33m.\u001b[0m\u001b[0m_engine\u001b[0m\u001b[1;33m.\u001b[0m\u001b[0mget_indexer\u001b[0m\u001b[1;33m(\u001b[0m\u001b[0mtarget\u001b[0m\u001b[1;33m.\u001b[0m\u001b[0m_get_engine_target\u001b[0m\u001b[1;33m(\u001b[0m\u001b[1;33m)\u001b[0m\u001b[1;33m)\u001b[0m\u001b[1;33m\u001b[0m\u001b[1;33m\u001b[0m\u001b[0m\n\u001b[0m\u001b[0;32m   3192\u001b[0m \u001b[1;33m\u001b[0m\u001b[0m\n\u001b[0;32m   3193\u001b[0m         \u001b[1;32mreturn\u001b[0m \u001b[0mensure_platform_int\u001b[0m\u001b[1;33m(\u001b[0m\u001b[0mindexer\u001b[0m\u001b[1;33m)\u001b[0m\u001b[1;33m\u001b[0m\u001b[1;33m\u001b[0m\u001b[0m\n",
      "\u001b[1;32mpandas\\_libs\\index.pyx\u001b[0m in \u001b[0;36mpandas._libs.index.DatetimeEngine.get_indexer\u001b[1;34m()\u001b[0m\n",
      "\u001b[1;32mpandas\\_libs\\hashtable_class_helper.pxi\u001b[0m in \u001b[0;36mpandas._libs.hashtable.Int64HashTable.lookup\u001b[1;34m()\u001b[0m\n",
      "\u001b[1;32m~\\miniconda3\\envs\\pesc-prj\\lib\\site-packages\\numpy\\core\\_asarray.py\u001b[0m in \u001b[0;36masarray\u001b[1;34m(a, dtype, order, like)\u001b[0m\n\u001b[0;32m     21\u001b[0m \u001b[1;33m\u001b[0m\u001b[0m\n\u001b[0;32m     22\u001b[0m \u001b[1;33m\u001b[0m\u001b[0m\n\u001b[1;32m---> 23\u001b[1;33m \u001b[1;33m@\u001b[0m\u001b[0mset_array_function_like_doc\u001b[0m\u001b[1;33m\u001b[0m\u001b[1;33m\u001b[0m\u001b[0m\n\u001b[0m\u001b[0;32m     24\u001b[0m \u001b[1;33m@\u001b[0m\u001b[0mset_module\u001b[0m\u001b[1;33m(\u001b[0m\u001b[1;34m'numpy'\u001b[0m\u001b[1;33m)\u001b[0m\u001b[1;33m\u001b[0m\u001b[1;33m\u001b[0m\u001b[0m\n\u001b[0;32m     25\u001b[0m \u001b[1;32mdef\u001b[0m \u001b[0masarray\u001b[0m\u001b[1;33m(\u001b[0m\u001b[0ma\u001b[0m\u001b[1;33m,\u001b[0m \u001b[0mdtype\u001b[0m\u001b[1;33m=\u001b[0m\u001b[1;32mNone\u001b[0m\u001b[1;33m,\u001b[0m \u001b[0morder\u001b[0m\u001b[1;33m=\u001b[0m\u001b[1;32mNone\u001b[0m\u001b[1;33m,\u001b[0m \u001b[1;33m*\u001b[0m\u001b[1;33m,\u001b[0m \u001b[0mlike\u001b[0m\u001b[1;33m=\u001b[0m\u001b[1;32mNone\u001b[0m\u001b[1;33m)\u001b[0m\u001b[1;33m:\u001b[0m\u001b[1;33m\u001b[0m\u001b[1;33m\u001b[0m\u001b[0m\n",
      "\u001b[1;31mKeyboardInterrupt\u001b[0m: "
     ]
    }
   ],
   "source": [
    "test = del_err(DC_2[\"Salinity\"])"
   ]
  },
  {
   "cell_type": "code",
   "execution_count": null,
   "metadata": {},
   "outputs": [],
   "source": [
    "fig, (ax1, ax2) = plt.subplots(nrows=2, figsize=(8, 5), constrained_layout=True, sharex=True)\n",
    "\n",
    "#Formato fecha\n",
    "locator = mdates.AutoDateLocator()\n",
    "formatter = mdates.ConciseDateFormatter(locator)\n",
    "\n",
    "ax1.set_ylabel(r\"Temperature \",\n",
    "          fontsize=16)\n",
    "\n",
    "ax1.plot(DC_2.index, DC_2[\"Temperature\"].values, c='b', alpha=0.8, linewidth=0.8, label='top-bottom')\n",
    "\n",
    "ax1.xaxis.set_tick_params(labelsize=16)\n",
    "ax1.yaxis.set_tick_params(labelsize=16)\n",
    "ax1.grid(alpha=0.5)\n",
    "\n",
    "ax2.set_ylabel(r\"Salinity \",\n",
    "          fontsize=16)\n",
    "\n",
    "ax2.plot(DC_2.index, DC_2[\"Salinity\"].values, c='b', alpha=0.8, linewidth=0.8, label='top-bottom')\n",
    "ax2.plot(test.index, test.values, c='r', alpha=0.8, linewidth=0.8, label='top-bottom')\n",
    "\n",
    "ax2.xaxis.set_tick_params(labelsize=16)\n",
    "ax2.yaxis.set_tick_params(labelsize=16)\n",
    "ax2.grid(alpha=0.5)\n",
    "\n",
    "# ax2.set_xlim(datetime(2012,1,17,14,0,0), datetime(2012,1,21,12,0,0))\n",
    "\n",
    "\n",
    "\n",
    "# Ajustar formato fecha\n",
    "ax1.xaxis.set_major_locator(locator)\n",
    "ax1.xaxis.set_major_formatter(formatter)"
   ]
  }
 ],
 "metadata": {
  "interpreter": {
   "hash": "fc98f4fb6479efca836f00034533bd0330a83288c950c91545145fbcb53a0d0c"
  },
  "kernelspec": {
   "display_name": "Python 3.9.2",
   "language": "python",
   "name": "python3"
  },
  "language_info": {
   "codemirror_mode": {
    "name": "ipython",
    "version": 3
   },
   "file_extension": ".py",
   "mimetype": "text/x-python",
   "name": "python",
   "nbconvert_exporter": "python",
   "pygments_lexer": "ipython3",
   "version": "3.9.2"
  },
  "orig_nbformat": 4
 },
 "nbformat": 4,
 "nbformat_minor": 2
}
