{
 "cells": [
  {
   "cell_type": "markdown",
   "id": "09879194-9767-41c7-ac2a-1dfbb7fa786a",
   "metadata": {},
   "source": [
    "## packages"
   ]
  },
  {
   "cell_type": "code",
   "execution_count": 1,
   "id": "65dba19c-2110-4dd8-94ab-5b211d6e1184",
   "metadata": {},
   "outputs": [],
   "source": [
    "import numpy as np\n",
    "import pandas as pd\n",
    "import xarray as xr\n",
    "import matplotlib.pyplot as plt\n",
    "import scipy.io as sio\n",
    "import datetime\n",
    "import gsw\n",
    "import matplotlib.dates as mdates\n",
    "import matplotlib.ticker as tick\n",
    "import matplotlib.cm as cm\n",
    "from matplotlib.gridspec import GridSpec\n",
    "%matplotlib inline\n",
    "plt.rc('text', usetex=True)\n",
    "plt.rc('font', family='serif')"
   ]
  },
  {
   "cell_type": "markdown",
   "id": "a4c0d0e7-2df7-4081-9cda-70af8f52b24a",
   "metadata": {},
   "source": [
    "## importar datos"
   ]
  },
  {
   "cell_type": "code",
   "execution_count": 2,
   "id": "b213d388-3b4e-4353-9275-e21ebd8c3bc8",
   "metadata": {},
   "outputs": [],
   "source": [
    "prof1 = sio.loadmat(\"data/018517_20120217_1505_data.mat\")\n",
    "RBR = prof1[\"RBR\"]\n"
   ]
  },
  {
   "cell_type": "code",
   "execution_count": 5,
   "id": "4518804a-121a-42c7-bbce-dcfcc38b74a4",
   "metadata": {},
   "outputs": [
    {
     "data": {
      "text/plain": [
       "{'__header__': b'MATLAB 5.0 MAT-file, Platform: PCWIN64, Created on: Tue Oct 26 11:09:03 2021',\n",
       " '__version__': '1.0',\n",
       " '__globals__': [],\n",
       " 'RBR': array([[(array(['RBR XR-620 6.42 18517'], dtype='<U21'), array([], dtype='<U1'), array(['018517_20120217_1505.hex'], dtype='<U24'), array([[0.166]]), array([[array(['Conductivity'], dtype='<U12')],\n",
       "                [array(['Temperature'], dtype='<U11')],\n",
       "                [array(['Pressure'], dtype='<U8')],\n",
       "                [array(['Turbidity'], dtype='<U9')],\n",
       "                [array(['Depth'], dtype='<U5')],\n",
       "                [array(['Salinity'], dtype='<U8')],\n",
       "                [array(['Specific Conductivity'], dtype='<U21')],\n",
       "                [array(['Density Anomaly'], dtype='<U15')],\n",
       "                [array(['Speed of sound'], dtype='<U14')]], dtype=object), array([[array(['mS/cm'], dtype='<U5')],\n",
       "                [array(['°C'], dtype='<U2')],\n",
       "                [array(['dBar'], dtype='<U4')],\n",
       "                [array(['NTU'], dtype='<U3')],\n",
       "                [array(['m'], dtype='<U1')],\n",
       "                [array(['PSU'], dtype='<U3')],\n",
       "                [array(['µS/cm'], dtype='<U5')],\n",
       "                [array(['n/a'], dtype='<U3')],\n",
       "                [array(['m/s'], dtype='<U3')]], dtype=object), array(['True'], dtype='<U4'), array([[0]], dtype=uint8), array(['True'], dtype='<U4'), array(['Startof logging'], dtype='<U15'), array(['2012-02-16 06:30:00'], dtype='<U19'), array(['2012-02-16 16:00:00'], dtype='<U19'), array([[1.3293846e+12]]), array([[1.3294188e+12]]), array([[ 9.00975800e-03,  3.41196529e-03,  9.72165541e+00,\n",
       "                 -2.00000000e-03],\n",
       "                [ 1.55619150e+02, -2.57000734e-04,  1.54536335e+02,\n",
       "                  2.51987380e+03],\n",
       "                [ 0.00000000e+00,  2.41754402e-06,  4.33412844e+00,\n",
       "                  0.00000000e+00],\n",
       "                [ 0.00000000e+00, -6.48019090e-08,  5.22067790e+00,\n",
       "                  0.00000000e+00]]), array([[array(['2012-02-16 06:30:01.000'], dtype='<U23')],\n",
       "                [array(['2012-02-16 06:30:01.167'], dtype='<U23')],\n",
       "                [array(['2012-02-16 06:30:01.334'], dtype='<U23')],\n",
       "                ...,\n",
       "                [array(['2012-02-16 15:59:48.833'], dtype='<U23')],\n",
       "                [array(['2012-02-16 15:59:49.000'], dtype='<U23')],\n",
       "                [array(['2012-02-16 15:59:49.166'], dtype='<U23')]], dtype=object), array([[-5.84051629e-03,  1.60085544e+01,  1.01511005e+01, ...,\n",
       "                 -7.05152054e+00, -1.05695676e+00,  1.46959540e+03],\n",
       "                [-3.88335959e-03,  1.60091089e+01,  1.01501424e+01, ...,\n",
       "                 -4.68849643e+00, -1.05705137e+00,  1.46959727e+03],\n",
       "                [-5.30253009e-03,  1.60095390e+01,  1.01502714e+01, ...,\n",
       "                 -6.40184000e+00, -1.05712071e+00,  1.46959874e+03],\n",
       "                ...,\n",
       "                [ 3.15683915e-03,  1.26033344e+01,  1.02788444e+01, ...,\n",
       "                  4.13619127e+00, -5.65427719e-01,  1.45746500e+03],\n",
       "                [-4.58830703e-03,  1.26036816e+01,  1.02799776e+01, ...,\n",
       "                 -6.01169388e+00, -5.71237589e-01,  1.45745715e+03],\n",
       "                [ 2.25710361e-03,  1.26039096e+01,  1.02785035e+01, ...,\n",
       "                  2.95728651e+00, -5.65777579e-01,  1.45746670e+03]]), array([[array(['TIM'], dtype='<U3'),\n",
       "                 array(['2012-02-16 06:30:01.000'], dtype='<U23'),\n",
       "                 array([[1]], dtype=uint8)],\n",
       "                [array(['GAN'], dtype='<U3'),\n",
       "                 array(['2012-02-16 06:30:01.000'], dtype='<U23'),\n",
       "                 array([[1]], dtype=uint8)],\n",
       "                [array(['TIM'], dtype='<U3'),\n",
       "                 array(['2012-02-16 06:30:02.000'], dtype='<U23'),\n",
       "                 array([[6]], dtype=uint8)]], dtype=object), array([[(array([[10.13249969]]), array(['Seawater'], dtype='<U8'), array([[1.02810001]]), array([[0]], dtype=uint8), array([[0]], dtype=uint8), array([[3.2e-05],\n",
       "                        [1.0e+00],\n",
       "                        [1.5e+01],\n",
       "                        [0.0e+00]]), array(['UNESCO'], dtype='<U6'), array(['kg/m³'], dtype='<U5'), array(['25°C'], dtype='<U4'))                                         ]],\n",
       "               dtype=[('atmpressure', 'O'), ('waterdensitytype', 'O'), ('waterdensity', 'O'), ('latitude', 'O'), ('longitude', 'O'), ('conductivitycorrcoeffs', 'O'), ('speedofsound', 'O'), ('denistyanomalyunits', 'O'), ('conductivitycorrectedat', 'O')]), array(['Plot the first channel of data:\\n   plot(RBR.data(:,1))\\nPlot all channels:\\n   plot(RBR.data(:,:))\\n'],\n",
       "               dtype='<U97'))                                                                                                                                                                                                                                                                                                                                                                             ]],\n",
       "       dtype=[('name', 'O'), ('comment', 'O'), ('datasetfilename', 'O'), ('sampleperiod', 'O'), ('channelnames', 'O'), ('channelunits', 'O'), ('isaveraging', 'O'), ('averagingperiod', 'O'), ('is6Hzprofiling', 'O'), ('thresholding', 'O'), ('starttime', 'O'), ('endtime', 'O'), ('serialstarttime', 'O'), ('serialendtime', 'O'), ('coefficients', 'O'), ('sampletimes', 'O'), ('data', 'O'), ('events', 'O'), ('parameters', 'O'), ('samplecode', 'O')]),\n",
       " 'datetime': array([[array(['2012-02-16 06:30:01.000'], dtype='<U23')],\n",
       "        [array(['2012-02-16 06:30:01.167'], dtype='<U23')],\n",
       "        [array(['2012-02-16 06:30:01.334'], dtype='<U23')],\n",
       "        ...,\n",
       "        [array(['2012-02-16 15:59:48.833'], dtype='<U23')],\n",
       "        [array(['2012-02-16 15:59:49.000'], dtype='<U23')],\n",
       "        [array(['2012-02-16 15:59:49.166'], dtype='<U23')]], dtype=object),\n",
       " 'datos': array([[-5.84051629e-03,  1.60085544e+01,  1.01511005e+01, ...,\n",
       "         -7.05152054e+00, -1.05695676e+00,  1.46959540e+03],\n",
       "        [-3.88335959e-03,  1.60091089e+01,  1.01501424e+01, ...,\n",
       "         -4.68849643e+00, -1.05705137e+00,  1.46959727e+03],\n",
       "        [-5.30253009e-03,  1.60095390e+01,  1.01502714e+01, ...,\n",
       "         -6.40184000e+00, -1.05712071e+00,  1.46959874e+03],\n",
       "        ...,\n",
       "        [ 3.15683915e-03,  1.26033344e+01,  1.02788444e+01, ...,\n",
       "          4.13619127e+00, -5.65427719e-01,  1.45746500e+03],\n",
       "        [-4.58830703e-03,  1.26036816e+01,  1.02799776e+01, ...,\n",
       "         -6.01169388e+00, -5.71237589e-01,  1.45745715e+03],\n",
       "        [ 2.25710361e-03,  1.26039096e+01,  1.02785035e+01, ...,\n",
       "          2.95728651e+00, -5.65777579e-01,  1.45746670e+03]]),\n",
       " 'names': array([[array(['Conductivity'], dtype='<U12')],\n",
       "        [array(['Temperature'], dtype='<U11')],\n",
       "        [array(['Pressure'], dtype='<U8')],\n",
       "        [array(['Turbidity'], dtype='<U9')],\n",
       "        [array(['Depth'], dtype='<U5')],\n",
       "        [array(['Salinity'], dtype='<U8')],\n",
       "        [array(['Specific Conductivity'], dtype='<U21')],\n",
       "        [array(['Density Anomaly'], dtype='<U15')],\n",
       "        [array(['Speed of sound'], dtype='<U14')]], dtype=object),\n",
       " 'units': array([[array(['mS/cm'], dtype='<U5')],\n",
       "        [array(['°C'], dtype='<U2')],\n",
       "        [array(['dBar'], dtype='<U4')],\n",
       "        [array(['NTU'], dtype='<U3')],\n",
       "        [array(['m'], dtype='<U1')],\n",
       "        [array(['PSU'], dtype='<U3')],\n",
       "        [array(['µS/cm'], dtype='<U5')],\n",
       "        [array(['n/a'], dtype='<U3')],\n",
       "        [array(['m/s'], dtype='<U3')]], dtype=object)}"
      ]
     },
     "execution_count": 5,
     "metadata": {},
     "output_type": "execute_result"
    }
   ],
   "source": [
    "prof1"
   ]
  }
 ],
 "metadata": {
  "kernelspec": {
   "display_name": "pesc-prj",
   "language": "python",
   "name": "pesc-prj"
  },
  "language_info": {
   "codemirror_mode": {
    "name": "ipython",
    "version": 3
   },
   "file_extension": ".py",
   "mimetype": "text/x-python",
   "name": "python",
   "nbconvert_exporter": "python",
   "pygments_lexer": "ipython3",
   "version": "3.9.2"
  }
 },
 "nbformat": 4,
 "nbformat_minor": 5
}
